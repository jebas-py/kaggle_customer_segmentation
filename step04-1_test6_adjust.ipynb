{
 "cells": [
  {
   "cell_type": "markdown",
   "id": "attached-coach",
   "metadata": {},
   "source": [
    "## Libraries and versions"
   ]
  },
  {
   "cell_type": "markdown",
   "id": "hungarian-watershed",
   "metadata": {},
   "source": [
    "### Libraries"
   ]
  },
  {
   "cell_type": "code",
   "execution_count": 1,
   "id": "affiliated-platform",
   "metadata": {},
   "outputs": [],
   "source": [
    "python_version = !Python -V #version 3.7.9\n",
    "import pandas as pd #version 1.2.3\n",
    "import numpy as np #version 1.19.2\n",
    "import seaborn as sns #0.11.0\n",
    "from matplotlib import __version__ as plt_version, pyplot as plt #3.3.3\n",
    "\n",
    "#for machine learning models\n",
    "#pre processing\n",
    "from category_encoders import OrdinalEncoder, __version__ as ce_version #version 2.2.2\n",
    "#version\n",
    "from sklearn import __version__ as sk_version #version 0.24.1\n",
    "#split data in train and test\n",
    "from sklearn.model_selection import train_test_split\n",
    "#classificators\n",
    "from sklearn.ensemble import RandomForestClassifier\n",
    "#metrics\n",
    "from sklearn.metrics import accuracy_score\n",
    "\n",
    "#for contingency table\n",
    "import statsmodels.api as sm\n",
    "\n",
    "#baseline for new segmentation\n",
    "from sklearn.dummy import DummyClassifier"
   ]
  },
  {
   "cell_type": "markdown",
   "id": "meaning-fiction",
   "metadata": {},
   "source": [
    "### Versions"
   ]
  },
  {
   "cell_type": "code",
   "execution_count": 2,
   "id": "military-motor",
   "metadata": {},
   "outputs": [
    {
     "name": "stdout",
     "output_type": "stream",
     "text": [
      "Python 3.7.9\n",
      "Pandas version: 1.2.3\n",
      "Numpy version: 1.19.2\n",
      "Category Encoders version: 2.2.2\n",
      "Sklearn version: 0.24.1\n",
      "Seaborn version: 0.11.0\n",
      "Matplotlib version: 3.3.3\n"
     ]
    }
   ],
   "source": [
    "print(f'{python_version[0]}')\n",
    "print(f'Pandas version: {pd.__version__}')\n",
    "print(f'Numpy version: {np.__version__}')\n",
    "print(f'Category Encoders version: {ce_version}')\n",
    "print(f'Sklearn version: {sk_version}')\n",
    "print(f'Seaborn version: {sns.__version__}')\n",
    "print(f'Matplotlib version: {plt_version}')"
   ]
  },
  {
   "cell_type": "markdown",
   "id": "known-dinner",
   "metadata": {},
   "source": [
    "## Configurations"
   ]
  },
  {
   "cell_type": "code",
   "execution_count": 3,
   "id": "crucial-society",
   "metadata": {},
   "outputs": [],
   "source": [
    "import warnings\n",
    "warnings.filterwarnings(\"ignore\")\n",
    "\n",
    "#seaborn graphics\n",
    "sns.set_style('darkgrid')\n",
    "sns.set_palette('Accent')"
   ]
  },
  {
   "cell_type": "markdown",
   "id": "multiple-picking",
   "metadata": {},
   "source": [
    "## Dataset"
   ]
  },
  {
   "cell_type": "code",
   "execution_count": 4,
   "id": "norman-skirt",
   "metadata": {},
   "outputs": [],
   "source": [
    "dataset = pd.read_csv('train_cleaning.csv')"
   ]
  },
  {
   "cell_type": "code",
   "execution_count": 5,
   "id": "mature-abraham",
   "metadata": {},
   "outputs": [
    {
     "data": {
      "text/html": [
       "<div>\n",
       "<style scoped>\n",
       "    .dataframe tbody tr th:only-of-type {\n",
       "        vertical-align: middle;\n",
       "    }\n",
       "\n",
       "    .dataframe tbody tr th {\n",
       "        vertical-align: top;\n",
       "    }\n",
       "\n",
       "    .dataframe thead th {\n",
       "        text-align: right;\n",
       "    }\n",
       "</style>\n",
       "<table border=\"1\" class=\"dataframe\">\n",
       "  <thead>\n",
       "    <tr style=\"text-align: right;\">\n",
       "      <th></th>\n",
       "      <th>ID</th>\n",
       "      <th>Gender</th>\n",
       "      <th>Ever_Married</th>\n",
       "      <th>Age</th>\n",
       "      <th>Graduated</th>\n",
       "      <th>Profession</th>\n",
       "      <th>Work_Experience</th>\n",
       "      <th>Spending_Score</th>\n",
       "      <th>Family_Size</th>\n",
       "      <th>Var_1</th>\n",
       "      <th>Segmentation</th>\n",
       "    </tr>\n",
       "  </thead>\n",
       "  <tbody>\n",
       "    <tr>\n",
       "      <th>0</th>\n",
       "      <td>462809</td>\n",
       "      <td>Male</td>\n",
       "      <td>No</td>\n",
       "      <td>22</td>\n",
       "      <td>No</td>\n",
       "      <td>Healthcare</td>\n",
       "      <td>1.0</td>\n",
       "      <td>Low</td>\n",
       "      <td>4.0</td>\n",
       "      <td>Cat_4</td>\n",
       "      <td>D</td>\n",
       "    </tr>\n",
       "    <tr>\n",
       "      <th>1</th>\n",
       "      <td>462643</td>\n",
       "      <td>Female</td>\n",
       "      <td>Yes</td>\n",
       "      <td>38</td>\n",
       "      <td>Yes</td>\n",
       "      <td>Engineer</td>\n",
       "      <td>1.0</td>\n",
       "      <td>Average</td>\n",
       "      <td>3.0</td>\n",
       "      <td>Cat_4</td>\n",
       "      <td>A</td>\n",
       "    </tr>\n",
       "    <tr>\n",
       "      <th>2</th>\n",
       "      <td>466315</td>\n",
       "      <td>Female</td>\n",
       "      <td>Yes</td>\n",
       "      <td>67</td>\n",
       "      <td>Yes</td>\n",
       "      <td>Engineer</td>\n",
       "      <td>1.0</td>\n",
       "      <td>Low</td>\n",
       "      <td>1.0</td>\n",
       "      <td>Cat_6</td>\n",
       "      <td>B</td>\n",
       "    </tr>\n",
       "    <tr>\n",
       "      <th>3</th>\n",
       "      <td>461735</td>\n",
       "      <td>Male</td>\n",
       "      <td>Yes</td>\n",
       "      <td>67</td>\n",
       "      <td>Yes</td>\n",
       "      <td>Lawyer</td>\n",
       "      <td>0.0</td>\n",
       "      <td>High</td>\n",
       "      <td>2.0</td>\n",
       "      <td>Cat_6</td>\n",
       "      <td>B</td>\n",
       "    </tr>\n",
       "    <tr>\n",
       "      <th>4</th>\n",
       "      <td>462669</td>\n",
       "      <td>Female</td>\n",
       "      <td>Yes</td>\n",
       "      <td>40</td>\n",
       "      <td>Yes</td>\n",
       "      <td>Entertainment</td>\n",
       "      <td>1.0</td>\n",
       "      <td>High</td>\n",
       "      <td>6.0</td>\n",
       "      <td>Cat_6</td>\n",
       "      <td>A</td>\n",
       "    </tr>\n",
       "  </tbody>\n",
       "</table>\n",
       "</div>"
      ],
      "text/plain": [
       "       ID  Gender Ever_Married  Age Graduated     Profession  Work_Experience  \\\n",
       "0  462809    Male           No   22        No     Healthcare              1.0   \n",
       "1  462643  Female          Yes   38       Yes       Engineer              1.0   \n",
       "2  466315  Female          Yes   67       Yes       Engineer              1.0   \n",
       "3  461735    Male          Yes   67       Yes         Lawyer              0.0   \n",
       "4  462669  Female          Yes   40       Yes  Entertainment              1.0   \n",
       "\n",
       "  Spending_Score  Family_Size  Var_1 Segmentation  \n",
       "0            Low          4.0  Cat_4            D  \n",
       "1        Average          3.0  Cat_4            A  \n",
       "2            Low          1.0  Cat_6            B  \n",
       "3           High          2.0  Cat_6            B  \n",
       "4           High          6.0  Cat_6            A  "
      ]
     },
     "execution_count": 5,
     "metadata": {},
     "output_type": "execute_result"
    }
   ],
   "source": [
    "dataset.head()"
   ]
  },
  {
   "cell_type": "markdown",
   "id": "czech-swaziland",
   "metadata": {},
   "source": [
    "## make model better"
   ]
  },
  {
   "cell_type": "markdown",
   "id": "veterinary-outside",
   "metadata": {},
   "source": [
    "OPTIONS\n",
    "\n",
    "- change parameters\n",
    "- change dependent variables"
   ]
  },
  {
   "cell_type": "markdown",
   "id": "offshore-qualification",
   "metadata": {},
   "source": [
    "# Dataset transformation"
   ]
  },
  {
   "cell_type": "markdown",
   "id": "prompt-living",
   "metadata": {},
   "source": [
    "## Encoders"
   ]
  },
  {
   "cell_type": "markdown",
   "id": "portuguese-geometry",
   "metadata": {},
   "source": [
    "### OrdinalEncoder"
   ]
  },
  {
   "cell_type": "code",
   "execution_count": 6,
   "id": "coupled-meditation",
   "metadata": {},
   "outputs": [],
   "source": [
    "#OrdinalEncoder transform dataset using a map for each variable\n",
    "map_encoders = [\n",
    "    {'col':'Gender', 'mapping':{'Female':0, 'Male':1}},   \n",
    "    {'col':'Ever_Married','mapping':{'No':0, 'Yes':1}},\n",
    "    {'col':'Graduated','mapping':{'No':0, 'Yes':1}},\n",
    "    {'col':'Profession','mapping':{'Homemaker':0, 'Doctor':4, 'Marketing':1, 'Healthcare':7, 'Entertainment':6,\n",
    "                                   'Engineer':5, 'Artist':8, 'Lawyer':3, 'Executive':2}},\n",
    "    {'col':'Spending_Score','mapping':{'Low':0, 'Average':1, 'High':2}},\n",
    "    {'col':'Var_1','mapping':{'Cat_1':1, 'Cat_2':3, 'Cat_3':4, 'Cat_4':5, 'Cat_5':0, 'Cat_6':6, 'Cat_7':2}},\n",
    "    {'col': 'Segmentation', 'mapping':{'A':0, 'B':1, 'C':2, 'D':3}}\n",
    "]\n",
    "encoder = OrdinalEncoder(cols=['Gender','Ever_Married', 'Graduated','Profession', 'Spending_Score', 'Var_1', 'Segmentation'],\n",
    "                        mapping=map_encoders)\n",
    "dataset_ordinal = encoder.fit_transform(dataset)\n",
    "\n",
    "#drop non used columns ID, Gender and Family_Size\n",
    "dataset_ordinal.drop(columns=['ID', 'Family_Size'], inplace=True)"
   ]
  },
  {
   "cell_type": "markdown",
   "id": "crude-bottom",
   "metadata": {},
   "source": [
    "## Variables"
   ]
  },
  {
   "cell_type": "markdown",
   "id": "confidential-wilderness",
   "metadata": {},
   "source": [
    "### OrdinalEncoder"
   ]
  },
  {
   "cell_type": "code",
   "execution_count": 7,
   "id": "happy-concern",
   "metadata": {},
   "outputs": [],
   "source": [
    "X_ordinal = dataset_ordinal[['Ever_Married', 'Age', 'Graduated', 'Profession', 'Work_Experience', 'Spending_Score', 'Var_1']]\n",
    "y_ordinal = dataset_ordinal['Segmentation']"
   ]
  },
  {
   "cell_type": "markdown",
   "id": "upset-austria",
   "metadata": {},
   "source": [
    "## model6 - test6"
   ]
  },
  {
   "cell_type": "code",
   "execution_count": 8,
   "id": "finnish-quantity",
   "metadata": {},
   "outputs": [
    {
     "name": "stdout",
     "output_type": "stream",
     "text": [
      "ACCURACY FOR 1 ITERATIONS\n",
      "Max = 0.5337\n",
      "Mean = 0.5337\n",
      "Min = 0.5337\n",
      "Std = 0.0000\n",
      "RandomForestClassifier(class_weight='balanced', max_depth=4,\n",
      "                       min_samples_leaf=30)\n"
     ]
    }
   ],
   "source": [
    "#first - split train and test data\n",
    "accuracy_list = []\n",
    "iterations = 1\n",
    "for iter in range(0, iterations):\n",
    "    X_train, X_test, y_train, y_test = train_test_split(X_ordinal, y_ordinal, train_size=0.7, stratify=y_ordinal)\n",
    "\n",
    "    #third - macinhe learning apply\n",
    "    model6 = RandomForestClassifier(max_depth=4, min_samples_leaf=30, class_weight='balanced')\n",
    "    model6.fit(X_train, y_train)\n",
    "    y_predict = model6.predict(X_test)\n",
    "\n",
    "    #fourth - test accuray\n",
    "    accuracy = accuracy_score(y_test, y_predict)\n",
    "    accuracy_list.append(accuracy)\n",
    "\n",
    "max_accuracy = np.asarray(accuracy_list).max()\n",
    "mean_accuracy = np.asarray(accuracy_list).mean()\n",
    "min_accuracy = np.asarray(accuracy_list).min()\n",
    "std_accuracy = np.asarray(accuracy_list).std()\n",
    "print(f'ACCURACY FOR {iterations} ITERATIONS')\n",
    "print(f'Max = {max_accuracy:.4f}\\nMean = {mean_accuracy:.4f}\\nMin = {min_accuracy:.4f}\\nStd = {std_accuracy:.4f}')\n",
    "print(model6.set_params())"
   ]
  },
  {
   "cell_type": "code",
   "execution_count": 9,
   "id": "incoming-pleasure",
   "metadata": {
    "scrolled": true
   },
   "outputs": [
    {
     "data": {
      "text/html": [
       "<div>\n",
       "<style scoped>\n",
       "    .dataframe tbody tr th:only-of-type {\n",
       "        vertical-align: middle;\n",
       "    }\n",
       "\n",
       "    .dataframe tbody tr th {\n",
       "        vertical-align: top;\n",
       "    }\n",
       "\n",
       "    .dataframe thead th {\n",
       "        text-align: right;\n",
       "    }\n",
       "</style>\n",
       "<table border=\"1\" class=\"dataframe\">\n",
       "  <thead>\n",
       "    <tr style=\"text-align: right;\">\n",
       "      <th></th>\n",
       "      <th>Importance</th>\n",
       "    </tr>\n",
       "  </thead>\n",
       "  <tbody>\n",
       "    <tr>\n",
       "      <th>Ever_Married</th>\n",
       "      <td>0.124212</td>\n",
       "    </tr>\n",
       "    <tr>\n",
       "      <th>Age</th>\n",
       "      <td>0.322730</td>\n",
       "    </tr>\n",
       "    <tr>\n",
       "      <th>Graduated</th>\n",
       "      <td>0.095960</td>\n",
       "    </tr>\n",
       "    <tr>\n",
       "      <th>Profession</th>\n",
       "      <td>0.201132</td>\n",
       "    </tr>\n",
       "    <tr>\n",
       "      <th>Work_Experience</th>\n",
       "      <td>0.012995</td>\n",
       "    </tr>\n",
       "    <tr>\n",
       "      <th>Spending_Score</th>\n",
       "      <td>0.226656</td>\n",
       "    </tr>\n",
       "    <tr>\n",
       "      <th>Var_1</th>\n",
       "      <td>0.016315</td>\n",
       "    </tr>\n",
       "  </tbody>\n",
       "</table>\n",
       "</div>"
      ],
      "text/plain": [
       "                 Importance\n",
       "Ever_Married       0.124212\n",
       "Age                0.322730\n",
       "Graduated          0.095960\n",
       "Profession         0.201132\n",
       "Work_Experience    0.012995\n",
       "Spending_Score     0.226656\n",
       "Var_1              0.016315"
      ]
     },
     "execution_count": 9,
     "metadata": {},
     "output_type": "execute_result"
    }
   ],
   "source": [
    "importance = model6.feature_importances_\n",
    "pd.DataFrame(data={'Importance':importance}, index=X_ordinal.columns)"
   ]
  },
  {
   "cell_type": "markdown",
   "id": "historic-demand",
   "metadata": {},
   "source": [
    "## First step: analyse error"
   ]
  },
  {
   "cell_type": "markdown",
   "id": "informative-airplane",
   "metadata": {},
   "source": [
    "### Error for Segmentation"
   ]
  },
  {
   "cell_type": "code",
   "execution_count": 10,
   "id": "square-hamilton",
   "metadata": {},
   "outputs": [],
   "source": [
    "#create DataFrame with errors\n",
    "dict_compare = {'Real':y_test.values, 'Predict':y_predict}\n",
    "dataset_error = pd.DataFrame(dict_compare, index=y_test.index)\n",
    "dataset_error['Error'] = dataset_error['Real'] !=dataset_error['Predict']\n",
    "dataset_error['Cat_Real'] = dataset_error['Real'].map({0:'A', 1:'B', 2:'C', 3:'D'})\n",
    "dataset_error['Cat_Predict'] = dataset_error['Predict'].map({0:'A', 1:'B', 2:'C', 3:'D'})"
   ]
  },
  {
   "cell_type": "code",
   "execution_count": 11,
   "id": "cardiac-thunder",
   "metadata": {},
   "outputs": [
    {
     "name": "stdout",
     "output_type": "stream",
     "text": [
      "Total error for Real Segmentation\n"
     ]
    },
    {
     "data": {
      "text/plain": [
       "B    0.344828\n",
       "A    0.267474\n",
       "C    0.218080\n",
       "D    0.169618\n",
       "Name: Cat_Real, dtype: float64"
      ]
     },
     "execution_count": 11,
     "metadata": {},
     "output_type": "execute_result"
    }
   ],
   "source": [
    "print('Total error for Real Segmentation')\n",
    "dataset_error.query('Error==True')['Cat_Real'].value_counts(normalize=True)"
   ]
  },
  {
   "cell_type": "code",
   "execution_count": 12,
   "id": "african-biotechnology",
   "metadata": {},
   "outputs": [
    {
     "name": "stdout",
     "output_type": "stream",
     "text": [
      "Total correct for Real Segmentation\n"
     ]
    },
    {
     "data": {
      "text/plain": [
       "D    0.371336\n",
       "C    0.272801\n",
       "A    0.222313\n",
       "B    0.133550\n",
       "Name: Cat_Real, dtype: float64"
      ]
     },
     "execution_count": 12,
     "metadata": {},
     "output_type": "execute_result"
    }
   ],
   "source": [
    "print('Total correct for Real Segmentation')\n",
    "dataset_error.query('Error==False')['Cat_Real'].value_counts(normalize=True)"
   ]
  },
  {
   "cell_type": "code",
   "execution_count": 13,
   "id": "surprised-andrews",
   "metadata": {},
   "outputs": [
    {
     "name": "stdout",
     "output_type": "stream",
     "text": [
      "Percent of Error for each Segmentation\n"
     ]
    },
    {
     "data": {
      "text/html": [
       "<div>\n",
       "<style scoped>\n",
       "    .dataframe tbody tr th:only-of-type {\n",
       "        vertical-align: middle;\n",
       "    }\n",
       "\n",
       "    .dataframe tbody tr th {\n",
       "        vertical-align: top;\n",
       "    }\n",
       "\n",
       "    .dataframe thead th {\n",
       "        text-align: right;\n",
       "    }\n",
       "</style>\n",
       "<table border=\"1\" class=\"dataframe\">\n",
       "  <thead>\n",
       "    <tr style=\"text-align: right;\">\n",
       "      <th>Error</th>\n",
       "      <th>False</th>\n",
       "      <th>True</th>\n",
       "    </tr>\n",
       "    <tr>\n",
       "      <th>Cat_Real</th>\n",
       "      <th></th>\n",
       "      <th></th>\n",
       "    </tr>\n",
       "  </thead>\n",
       "  <tbody>\n",
       "    <tr>\n",
       "      <th>A</th>\n",
       "      <td>0.487500</td>\n",
       "      <td>0.512500</td>\n",
       "    </tr>\n",
       "    <tr>\n",
       "      <th>B</th>\n",
       "      <td>0.307116</td>\n",
       "      <td>0.692884</td>\n",
       "    </tr>\n",
       "    <tr>\n",
       "      <th>C</th>\n",
       "      <td>0.588752</td>\n",
       "      <td>0.411248</td>\n",
       "    </tr>\n",
       "    <tr>\n",
       "      <th>D</th>\n",
       "      <td>0.714734</td>\n",
       "      <td>0.285266</td>\n",
       "    </tr>\n",
       "  </tbody>\n",
       "</table>\n",
       "</div>"
      ],
      "text/plain": [
       "Error        False     True \n",
       "Cat_Real                    \n",
       "A         0.487500  0.512500\n",
       "B         0.307116  0.692884\n",
       "C         0.588752  0.411248\n",
       "D         0.714734  0.285266"
      ]
     },
     "execution_count": 13,
     "metadata": {},
     "output_type": "execute_result"
    }
   ],
   "source": [
    "print('Percent of Error for each Segmentation')\n",
    "pd.crosstab(index=dataset_error['Cat_Real'], columns=dataset_error['Error'], normalize='index')"
   ]
  },
  {
   "cell_type": "markdown",
   "id": "leading-royalty",
   "metadata": {},
   "source": [
    "- the model did not understand the features for some Segmentations, particularlly for B and A\n",
    "- the proportion of Segmentation in train sample is the same of total data\n",
    "- what is different for these Segmentations?"
   ]
  },
  {
   "cell_type": "markdown",
   "id": "digital-default",
   "metadata": {},
   "source": [
    "## Contingecy table"
   ]
  },
  {
   "cell_type": "markdown",
   "id": "unique-livestock",
   "metadata": {},
   "source": [
    "### Ever_Married"
   ]
  },
  {
   "cell_type": "code",
   "execution_count": 14,
   "id": "ecological-bennett",
   "metadata": {},
   "outputs": [],
   "source": [
    "table_ever = sm.stats.Table.from_data(dataset[['Ever_Married', 'Segmentation']])"
   ]
  },
  {
   "cell_type": "code",
   "execution_count": 15,
   "id": "blocked-promotion",
   "metadata": {},
   "outputs": [
    {
     "name": "stdout",
     "output_type": "stream",
     "text": [
      "Estimatives for independecy\n"
     ]
    },
    {
     "data": {
      "text/html": [
       "<div>\n",
       "<style scoped>\n",
       "    .dataframe tbody tr th:only-of-type {\n",
       "        vertical-align: middle;\n",
       "    }\n",
       "\n",
       "    .dataframe tbody tr th {\n",
       "        vertical-align: top;\n",
       "    }\n",
       "\n",
       "    .dataframe thead th {\n",
       "        text-align: right;\n",
       "    }\n",
       "</style>\n",
       "<table border=\"1\" class=\"dataframe\">\n",
       "  <thead>\n",
       "    <tr style=\"text-align: right;\">\n",
       "      <th>Segmentation</th>\n",
       "      <th>A</th>\n",
       "      <th>B</th>\n",
       "      <th>C</th>\n",
       "      <th>D</th>\n",
       "    </tr>\n",
       "    <tr>\n",
       "      <th>Ever_Married</th>\n",
       "      <th></th>\n",
       "      <th></th>\n",
       "      <th></th>\n",
       "      <th></th>\n",
       "    </tr>\n",
       "  </thead>\n",
       "  <tbody>\n",
       "    <tr>\n",
       "      <th>No</th>\n",
       "      <td>773.433173</td>\n",
       "      <td>736.977833</td>\n",
       "      <td>785.446864</td>\n",
       "      <td>881.142131</td>\n",
       "    </tr>\n",
       "    <tr>\n",
       "      <th>Yes</th>\n",
       "      <td>1093.566827</td>\n",
       "      <td>1042.022167</td>\n",
       "      <td>1110.553136</td>\n",
       "      <td>1245.857869</td>\n",
       "    </tr>\n",
       "  </tbody>\n",
       "</table>\n",
       "</div>"
      ],
      "text/plain": [
       "Segmentation            A            B            C            D\n",
       "Ever_Married                                                    \n",
       "No             773.433173   736.977833   785.446864   881.142131\n",
       "Yes           1093.566827  1042.022167  1110.553136  1245.857869"
      ]
     },
     "execution_count": 15,
     "metadata": {},
     "output_type": "execute_result"
    }
   ],
   "source": [
    "print('Estimatives for independecy')\n",
    "table_ever.fittedvalues"
   ]
  },
  {
   "cell_type": "code",
   "execution_count": 16,
   "id": "finite-saskatchewan",
   "metadata": {},
   "outputs": [
    {
     "name": "stdout",
     "output_type": "stream",
     "text": [
      "Original values\n"
     ]
    },
    {
     "data": {
      "text/html": [
       "<div>\n",
       "<style scoped>\n",
       "    .dataframe tbody tr th:only-of-type {\n",
       "        vertical-align: middle;\n",
       "    }\n",
       "\n",
       "    .dataframe tbody tr th {\n",
       "        vertical-align: top;\n",
       "    }\n",
       "\n",
       "    .dataframe thead th {\n",
       "        text-align: right;\n",
       "    }\n",
       "</style>\n",
       "<table border=\"1\" class=\"dataframe\">\n",
       "  <thead>\n",
       "    <tr style=\"text-align: right;\">\n",
       "      <th>Segmentation</th>\n",
       "      <th>A</th>\n",
       "      <th>B</th>\n",
       "      <th>C</th>\n",
       "      <th>D</th>\n",
       "    </tr>\n",
       "    <tr>\n",
       "      <th>Ever_Married</th>\n",
       "      <th></th>\n",
       "      <th></th>\n",
       "      <th></th>\n",
       "      <th></th>\n",
       "    </tr>\n",
       "  </thead>\n",
       "  <tbody>\n",
       "    <tr>\n",
       "      <th>No</th>\n",
       "      <td>776</td>\n",
       "      <td>468</td>\n",
       "      <td>381</td>\n",
       "      <td>1552</td>\n",
       "    </tr>\n",
       "    <tr>\n",
       "      <th>Yes</th>\n",
       "      <td>1091</td>\n",
       "      <td>1311</td>\n",
       "      <td>1515</td>\n",
       "      <td>575</td>\n",
       "    </tr>\n",
       "  </tbody>\n",
       "</table>\n",
       "</div>"
      ],
      "text/plain": [
       "Segmentation     A     B     C     D\n",
       "Ever_Married                        \n",
       "No             776   468   381  1552\n",
       "Yes           1091  1311  1515   575"
      ]
     },
     "execution_count": 16,
     "metadata": {},
     "output_type": "execute_result"
    }
   ],
   "source": [
    "print('Original values')\n",
    "table_ever.table_orig"
   ]
  },
  {
   "cell_type": "code",
   "execution_count": 17,
   "id": "welcome-liability",
   "metadata": {},
   "outputs": [
    {
     "name": "stdout",
     "output_type": "stream",
     "text": [
      "df          3\n",
      "pvalue      0.0\n",
      "statistic   1395.1646743205733\n"
     ]
    }
   ],
   "source": [
    "print(table_ever.test_nominal_association())"
   ]
  },
  {
   "cell_type": "markdown",
   "id": "higher-litigation",
   "metadata": {},
   "source": [
    "### Graduated"
   ]
  },
  {
   "cell_type": "code",
   "execution_count": 18,
   "id": "grand-forestry",
   "metadata": {},
   "outputs": [],
   "source": [
    "table_graduated = sm.stats.Table.from_data(dataset[['Graduated', 'Segmentation']])"
   ]
  },
  {
   "cell_type": "code",
   "execution_count": 19,
   "id": "individual-necessity",
   "metadata": {},
   "outputs": [
    {
     "name": "stdout",
     "output_type": "stream",
     "text": [
      "Estimatives for independecy\n"
     ]
    },
    {
     "data": {
      "text/html": [
       "<div>\n",
       "<style scoped>\n",
       "    .dataframe tbody tr th:only-of-type {\n",
       "        vertical-align: middle;\n",
       "    }\n",
       "\n",
       "    .dataframe tbody tr th {\n",
       "        vertical-align: top;\n",
       "    }\n",
       "\n",
       "    .dataframe thead th {\n",
       "        text-align: right;\n",
       "    }\n",
       "</style>\n",
       "<table border=\"1\" class=\"dataframe\">\n",
       "  <thead>\n",
       "    <tr style=\"text-align: right;\">\n",
       "      <th>Segmentation</th>\n",
       "      <th>A</th>\n",
       "      <th>B</th>\n",
       "      <th>C</th>\n",
       "      <th>D</th>\n",
       "    </tr>\n",
       "    <tr>\n",
       "      <th>Graduated</th>\n",
       "      <th></th>\n",
       "      <th></th>\n",
       "      <th></th>\n",
       "      <th></th>\n",
       "    </tr>\n",
       "  </thead>\n",
       "  <tbody>\n",
       "    <tr>\n",
       "      <th>No</th>\n",
       "      <td>695.286478</td>\n",
       "      <td>662.514539</td>\n",
       "      <td>706.086322</td>\n",
       "      <td>792.112661</td>\n",
       "    </tr>\n",
       "    <tr>\n",
       "      <th>Yes</th>\n",
       "      <td>1171.713522</td>\n",
       "      <td>1116.485461</td>\n",
       "      <td>1189.913678</td>\n",
       "      <td>1334.887339</td>\n",
       "    </tr>\n",
       "  </tbody>\n",
       "</table>\n",
       "</div>"
      ],
      "text/plain": [
       "Segmentation            A            B            C            D\n",
       "Graduated                                                       \n",
       "No             695.286478   662.514539   706.086322   792.112661\n",
       "Yes           1171.713522  1116.485461  1189.913678  1334.887339"
      ]
     },
     "execution_count": 19,
     "metadata": {},
     "output_type": "execute_result"
    }
   ],
   "source": [
    "print('Estimatives for independecy')\n",
    "table_graduated.fittedvalues"
   ]
  },
  {
   "cell_type": "code",
   "execution_count": 20,
   "id": "thousand-premiere",
   "metadata": {},
   "outputs": [
    {
     "name": "stdout",
     "output_type": "stream",
     "text": [
      "Original values\n"
     ]
    },
    {
     "data": {
      "text/html": [
       "<div>\n",
       "<style scoped>\n",
       "    .dataframe tbody tr th:only-of-type {\n",
       "        vertical-align: middle;\n",
       "    }\n",
       "\n",
       "    .dataframe tbody tr th {\n",
       "        vertical-align: top;\n",
       "    }\n",
       "\n",
       "    .dataframe thead th {\n",
       "        text-align: right;\n",
       "    }\n",
       "</style>\n",
       "<table border=\"1\" class=\"dataframe\">\n",
       "  <thead>\n",
       "    <tr style=\"text-align: right;\">\n",
       "      <th>Segmentation</th>\n",
       "      <th>A</th>\n",
       "      <th>B</th>\n",
       "      <th>C</th>\n",
       "      <th>D</th>\n",
       "    </tr>\n",
       "    <tr>\n",
       "      <th>Graduated</th>\n",
       "      <th></th>\n",
       "      <th></th>\n",
       "      <th></th>\n",
       "      <th></th>\n",
       "    </tr>\n",
       "  </thead>\n",
       "  <tbody>\n",
       "    <tr>\n",
       "      <th>No</th>\n",
       "      <td>689</td>\n",
       "      <td>494</td>\n",
       "      <td>324</td>\n",
       "      <td>1349</td>\n",
       "    </tr>\n",
       "    <tr>\n",
       "      <th>Yes</th>\n",
       "      <td>1178</td>\n",
       "      <td>1285</td>\n",
       "      <td>1572</td>\n",
       "      <td>778</td>\n",
       "    </tr>\n",
       "  </tbody>\n",
       "</table>\n",
       "</div>"
      ],
      "text/plain": [
       "Segmentation     A     B     C     D\n",
       "Graduated                           \n",
       "No             689   494   324  1349\n",
       "Yes           1178  1285  1572   778"
      ]
     },
     "execution_count": 20,
     "metadata": {},
     "output_type": "execute_result"
    }
   ],
   "source": [
    "print('Original values')\n",
    "table_graduated.table_orig"
   ]
  },
  {
   "cell_type": "code",
   "execution_count": 21,
   "id": "yellow-exhibition",
   "metadata": {},
   "outputs": [
    {
     "name": "stdout",
     "output_type": "stream",
     "text": [
      "df          3\n",
      "pvalue      0.0\n",
      "statistic   1021.6728101651402\n"
     ]
    }
   ],
   "source": [
    "print(table_graduated.test_nominal_association())"
   ]
  },
  {
   "cell_type": "markdown",
   "id": "composite-better",
   "metadata": {},
   "source": [
    "### Gender"
   ]
  },
  {
   "cell_type": "code",
   "execution_count": 22,
   "id": "interesting-zoning",
   "metadata": {},
   "outputs": [],
   "source": [
    "table_gender = sm.stats.Table.from_data(dataset[['Gender', 'Segmentation']])"
   ]
  },
  {
   "cell_type": "code",
   "execution_count": 23,
   "id": "female-calgary",
   "metadata": {},
   "outputs": [
    {
     "name": "stdout",
     "output_type": "stream",
     "text": [
      "Estimatives for independecy\n"
     ]
    },
    {
     "data": {
      "text/html": [
       "<div>\n",
       "<style scoped>\n",
       "    .dataframe tbody tr th:only-of-type {\n",
       "        vertical-align: middle;\n",
       "    }\n",
       "\n",
       "    .dataframe tbody tr th {\n",
       "        vertical-align: top;\n",
       "    }\n",
       "\n",
       "    .dataframe thead th {\n",
       "        text-align: right;\n",
       "    }\n",
       "</style>\n",
       "<table border=\"1\" class=\"dataframe\">\n",
       "  <thead>\n",
       "    <tr style=\"text-align: right;\">\n",
       "      <th>Segmentation</th>\n",
       "      <th>A</th>\n",
       "      <th>B</th>\n",
       "      <th>C</th>\n",
       "      <th>D</th>\n",
       "    </tr>\n",
       "    <tr>\n",
       "      <th>Gender</th>\n",
       "      <th></th>\n",
       "      <th></th>\n",
       "      <th></th>\n",
       "      <th></th>\n",
       "    </tr>\n",
       "  </thead>\n",
       "  <tbody>\n",
       "    <tr>\n",
       "      <th>Female</th>\n",
       "      <td>840.381275</td>\n",
       "      <td>800.770374</td>\n",
       "      <td>853.434868</td>\n",
       "      <td>957.413483</td>\n",
       "    </tr>\n",
       "    <tr>\n",
       "      <th>Male</th>\n",
       "      <td>1026.618725</td>\n",
       "      <td>978.229626</td>\n",
       "      <td>1042.565132</td>\n",
       "      <td>1169.586517</td>\n",
       "    </tr>\n",
       "  </tbody>\n",
       "</table>\n",
       "</div>"
      ],
      "text/plain": [
       "Segmentation            A           B            C            D\n",
       "Gender                                                         \n",
       "Female         840.381275  800.770374   853.434868   957.413483\n",
       "Male          1026.618725  978.229626  1042.565132  1169.586517"
      ]
     },
     "execution_count": 23,
     "metadata": {},
     "output_type": "execute_result"
    }
   ],
   "source": [
    "print('Estimatives for independecy')\n",
    "table_gender.fittedvalues"
   ]
  },
  {
   "cell_type": "code",
   "execution_count": 24,
   "id": "metropolitan-arrow",
   "metadata": {},
   "outputs": [
    {
     "name": "stdout",
     "output_type": "stream",
     "text": [
      "Original values\n"
     ]
    },
    {
     "data": {
      "text/html": [
       "<div>\n",
       "<style scoped>\n",
       "    .dataframe tbody tr th:only-of-type {\n",
       "        vertical-align: middle;\n",
       "    }\n",
       "\n",
       "    .dataframe tbody tr th {\n",
       "        vertical-align: top;\n",
       "    }\n",
       "\n",
       "    .dataframe thead th {\n",
       "        text-align: right;\n",
       "    }\n",
       "</style>\n",
       "<table border=\"1\" class=\"dataframe\">\n",
       "  <thead>\n",
       "    <tr style=\"text-align: right;\">\n",
       "      <th>Segmentation</th>\n",
       "      <th>A</th>\n",
       "      <th>B</th>\n",
       "      <th>C</th>\n",
       "      <th>D</th>\n",
       "    </tr>\n",
       "    <tr>\n",
       "      <th>Gender</th>\n",
       "      <th></th>\n",
       "      <th></th>\n",
       "      <th></th>\n",
       "      <th></th>\n",
       "    </tr>\n",
       "  </thead>\n",
       "  <tbody>\n",
       "    <tr>\n",
       "      <th>Female</th>\n",
       "      <td>856</td>\n",
       "      <td>825</td>\n",
       "      <td>881</td>\n",
       "      <td>890</td>\n",
       "    </tr>\n",
       "    <tr>\n",
       "      <th>Male</th>\n",
       "      <td>1011</td>\n",
       "      <td>954</td>\n",
       "      <td>1015</td>\n",
       "      <td>1237</td>\n",
       "    </tr>\n",
       "  </tbody>\n",
       "</table>\n",
       "</div>"
      ],
      "text/plain": [
       "Segmentation     A    B     C     D\n",
       "Gender                             \n",
       "Female         856  825   881   890\n",
       "Male          1011  954  1015  1237"
      ]
     },
     "execution_count": 24,
     "metadata": {},
     "output_type": "execute_result"
    }
   ],
   "source": [
    "print('Original values')\n",
    "table_gender.table_orig"
   ]
  },
  {
   "cell_type": "code",
   "execution_count": 25,
   "id": "relevant-allocation",
   "metadata": {
    "scrolled": true
   },
   "outputs": [
    {
     "name": "stdout",
     "output_type": "stream",
     "text": [
      "df          3\n",
      "pvalue      0.007007002742882573\n",
      "statistic   12.11266903892659\n"
     ]
    }
   ],
   "source": [
    "print(table_gender.test_nominal_association())"
   ]
  },
  {
   "cell_type": "markdown",
   "id": "seasonal-namibia",
   "metadata": {},
   "source": [
    "### Spending_Score"
   ]
  },
  {
   "cell_type": "code",
   "execution_count": 26,
   "id": "returning-alpha",
   "metadata": {},
   "outputs": [],
   "source": [
    "table_spending = sm.stats.Table.from_data(dataset[['Spending_Score', 'Segmentation']])"
   ]
  },
  {
   "cell_type": "code",
   "execution_count": 27,
   "id": "exotic-parliament",
   "metadata": {},
   "outputs": [
    {
     "name": "stdout",
     "output_type": "stream",
     "text": [
      "Estimatives for independecy\n"
     ]
    },
    {
     "data": {
      "text/html": [
       "<div>\n",
       "<style scoped>\n",
       "    .dataframe tbody tr th:only-of-type {\n",
       "        vertical-align: middle;\n",
       "    }\n",
       "\n",
       "    .dataframe tbody tr th {\n",
       "        vertical-align: top;\n",
       "    }\n",
       "\n",
       "    .dataframe thead th {\n",
       "        text-align: right;\n",
       "    }\n",
       "</style>\n",
       "<table border=\"1\" class=\"dataframe\">\n",
       "  <thead>\n",
       "    <tr style=\"text-align: right;\">\n",
       "      <th>Segmentation</th>\n",
       "      <th>A</th>\n",
       "      <th>B</th>\n",
       "      <th>C</th>\n",
       "      <th>D</th>\n",
       "    </tr>\n",
       "    <tr>\n",
       "      <th>Spending_Score</th>\n",
       "      <th></th>\n",
       "      <th></th>\n",
       "      <th></th>\n",
       "      <th></th>\n",
       "    </tr>\n",
       "  </thead>\n",
       "  <tbody>\n",
       "    <tr>\n",
       "      <th>Average</th>\n",
       "      <td>455.977442</td>\n",
       "      <td>434.485200</td>\n",
       "      <td>463.060112</td>\n",
       "      <td>519.477246</td>\n",
       "    </tr>\n",
       "    <tr>\n",
       "      <th>High</th>\n",
       "      <td>280.208241</td>\n",
       "      <td>267.000782</td>\n",
       "      <td>284.560699</td>\n",
       "      <td>319.230278</td>\n",
       "    </tr>\n",
       "    <tr>\n",
       "      <th>Low</th>\n",
       "      <td>1130.814317</td>\n",
       "      <td>1077.514017</td>\n",
       "      <td>1148.379189</td>\n",
       "      <td>1288.292476</td>\n",
       "    </tr>\n",
       "  </tbody>\n",
       "</table>\n",
       "</div>"
      ],
      "text/plain": [
       "Segmentation              A            B            C            D\n",
       "Spending_Score                                                    \n",
       "Average          455.977442   434.485200   463.060112   519.477246\n",
       "High             280.208241   267.000782   284.560699   319.230278\n",
       "Low             1130.814317  1077.514017  1148.379189  1288.292476"
      ]
     },
     "execution_count": 27,
     "metadata": {},
     "output_type": "execute_result"
    }
   ],
   "source": [
    "print('Estimatives for independecy')\n",
    "table_spending.fittedvalues"
   ]
  },
  {
   "cell_type": "code",
   "execution_count": 28,
   "id": "completed-century",
   "metadata": {},
   "outputs": [
    {
     "name": "stdout",
     "output_type": "stream",
     "text": [
      "Original values\n"
     ]
    },
    {
     "data": {
      "text/html": [
       "<div>\n",
       "<style scoped>\n",
       "    .dataframe tbody tr th:only-of-type {\n",
       "        vertical-align: middle;\n",
       "    }\n",
       "\n",
       "    .dataframe tbody tr th {\n",
       "        vertical-align: top;\n",
       "    }\n",
       "\n",
       "    .dataframe thead th {\n",
       "        text-align: right;\n",
       "    }\n",
       "</style>\n",
       "<table border=\"1\" class=\"dataframe\">\n",
       "  <thead>\n",
       "    <tr style=\"text-align: right;\">\n",
       "      <th>Segmentation</th>\n",
       "      <th>A</th>\n",
       "      <th>B</th>\n",
       "      <th>C</th>\n",
       "      <th>D</th>\n",
       "    </tr>\n",
       "    <tr>\n",
       "      <th>Spending_Score</th>\n",
       "      <th></th>\n",
       "      <th></th>\n",
       "      <th></th>\n",
       "      <th></th>\n",
       "    </tr>\n",
       "  </thead>\n",
       "  <tbody>\n",
       "    <tr>\n",
       "      <th>Average</th>\n",
       "      <td>315</td>\n",
       "      <td>559</td>\n",
       "      <td>873</td>\n",
       "      <td>126</td>\n",
       "    </tr>\n",
       "    <tr>\n",
       "      <th>High</th>\n",
       "      <td>255</td>\n",
       "      <td>368</td>\n",
       "      <td>399</td>\n",
       "      <td>129</td>\n",
       "    </tr>\n",
       "    <tr>\n",
       "      <th>Low</th>\n",
       "      <td>1297</td>\n",
       "      <td>852</td>\n",
       "      <td>624</td>\n",
       "      <td>1872</td>\n",
       "    </tr>\n",
       "  </tbody>\n",
       "</table>\n",
       "</div>"
      ],
      "text/plain": [
       "Segmentation       A    B    C     D\n",
       "Spending_Score                      \n",
       "Average          315  559  873   126\n",
       "High             255  368  399   129\n",
       "Low             1297  852  624  1872"
      ]
     },
     "execution_count": 28,
     "metadata": {},
     "output_type": "execute_result"
    }
   ],
   "source": [
    "print('Original values')\n",
    "table_spending.table_orig"
   ]
  },
  {
   "cell_type": "code",
   "execution_count": 29,
   "id": "muslim-developer",
   "metadata": {},
   "outputs": [
    {
     "name": "stdout",
     "output_type": "stream",
     "text": [
      "null_mean   16272.112661363934\n",
      "null_sd     84.30044016405724\n",
      "pvalue      2.7550359802155252e-17\n",
      "statistic   16985.0\n",
      "zscore      8.456507904925706\n"
     ]
    }
   ],
   "source": [
    "print(table_spending.test_ordinal_association())"
   ]
  },
  {
   "cell_type": "markdown",
   "id": "oriented-layout",
   "metadata": {},
   "source": [
    "### Profession"
   ]
  },
  {
   "cell_type": "code",
   "execution_count": 30,
   "id": "specific-programmer",
   "metadata": {},
   "outputs": [],
   "source": [
    "table_profession = sm.stats.Table.from_data(dataset[['Profession', 'Segmentation']])"
   ]
  },
  {
   "cell_type": "code",
   "execution_count": 31,
   "id": "cross-salon",
   "metadata": {},
   "outputs": [
    {
     "name": "stdout",
     "output_type": "stream",
     "text": [
      "Estimatives for independecy\n"
     ]
    },
    {
     "data": {
      "text/html": [
       "<div>\n",
       "<style scoped>\n",
       "    .dataframe tbody tr th:only-of-type {\n",
       "        vertical-align: middle;\n",
       "    }\n",
       "\n",
       "    .dataframe tbody tr th {\n",
       "        vertical-align: top;\n",
       "    }\n",
       "\n",
       "    .dataframe thead th {\n",
       "        text-align: right;\n",
       "    }\n",
       "</style>\n",
       "<table border=\"1\" class=\"dataframe\">\n",
       "  <thead>\n",
       "    <tr style=\"text-align: right;\">\n",
       "      <th>Segmentation</th>\n",
       "      <th>A</th>\n",
       "      <th>B</th>\n",
       "      <th>C</th>\n",
       "      <th>D</th>\n",
       "    </tr>\n",
       "    <tr>\n",
       "      <th>Profession</th>\n",
       "      <th></th>\n",
       "      <th></th>\n",
       "      <th></th>\n",
       "      <th></th>\n",
       "    </tr>\n",
       "  </thead>\n",
       "  <tbody>\n",
       "    <tr>\n",
       "      <th>Artist</th>\n",
       "      <td>596.203286</td>\n",
       "      <td>568.101578</td>\n",
       "      <td>605.464076</td>\n",
       "      <td>679.231060</td>\n",
       "    </tr>\n",
       "    <tr>\n",
       "      <th>Doctor</th>\n",
       "      <td>162.623028</td>\n",
       "      <td>154.957882</td>\n",
       "      <td>165.149042</td>\n",
       "      <td>185.270048</td>\n",
       "    </tr>\n",
       "    <tr>\n",
       "      <th>Engineer</th>\n",
       "      <td>164.083714</td>\n",
       "      <td>156.349720</td>\n",
       "      <td>166.632416</td>\n",
       "      <td>186.934150</td>\n",
       "    </tr>\n",
       "    <tr>\n",
       "      <th>Entertainment</th>\n",
       "      <td>223.728387</td>\n",
       "      <td>213.183075</td>\n",
       "      <td>227.203547</td>\n",
       "      <td>254.884992</td>\n",
       "    </tr>\n",
       "    <tr>\n",
       "      <th>Executive</th>\n",
       "      <td>140.712740</td>\n",
       "      <td>134.080323</td>\n",
       "      <td>142.898422</td>\n",
       "      <td>160.308515</td>\n",
       "    </tr>\n",
       "    <tr>\n",
       "      <th>Healthcare</th>\n",
       "      <td>309.421959</td>\n",
       "      <td>294.837528</td>\n",
       "      <td>314.228191</td>\n",
       "      <td>352.512322</td>\n",
       "    </tr>\n",
       "    <tr>\n",
       "      <th>Homemaker</th>\n",
       "      <td>56.966749</td>\n",
       "      <td>54.281653</td>\n",
       "      <td>57.851610</td>\n",
       "      <td>64.899987</td>\n",
       "    </tr>\n",
       "    <tr>\n",
       "      <th>Lawyer</th>\n",
       "      <td>145.581693</td>\n",
       "      <td>138.719781</td>\n",
       "      <td>147.843004</td>\n",
       "      <td>165.855522</td>\n",
       "    </tr>\n",
       "    <tr>\n",
       "      <th>Marketing</th>\n",
       "      <td>67.678446</td>\n",
       "      <td>64.488460</td>\n",
       "      <td>68.729691</td>\n",
       "      <td>77.103403</td>\n",
       "    </tr>\n",
       "  </tbody>\n",
       "</table>\n",
       "</div>"
      ],
      "text/plain": [
       "Segmentation            A           B           C           D\n",
       "Profession                                                   \n",
       "Artist         596.203286  568.101578  605.464076  679.231060\n",
       "Doctor         162.623028  154.957882  165.149042  185.270048\n",
       "Engineer       164.083714  156.349720  166.632416  186.934150\n",
       "Entertainment  223.728387  213.183075  227.203547  254.884992\n",
       "Executive      140.712740  134.080323  142.898422  160.308515\n",
       "Healthcare     309.421959  294.837528  314.228191  352.512322\n",
       "Homemaker       56.966749   54.281653   57.851610   64.899987\n",
       "Lawyer         145.581693  138.719781  147.843004  165.855522\n",
       "Marketing       67.678446   64.488460   68.729691   77.103403"
      ]
     },
     "execution_count": 31,
     "metadata": {},
     "output_type": "execute_result"
    }
   ],
   "source": [
    "print('Estimatives for independecy')\n",
    "table_profession.fittedvalues"
   ]
  },
  {
   "cell_type": "code",
   "execution_count": 32,
   "id": "eleven-cooler",
   "metadata": {},
   "outputs": [
    {
     "name": "stdout",
     "output_type": "stream",
     "text": [
      "Original values\n"
     ]
    },
    {
     "data": {
      "text/html": [
       "<div>\n",
       "<style scoped>\n",
       "    .dataframe tbody tr th:only-of-type {\n",
       "        vertical-align: middle;\n",
       "    }\n",
       "\n",
       "    .dataframe tbody tr th {\n",
       "        vertical-align: top;\n",
       "    }\n",
       "\n",
       "    .dataframe thead th {\n",
       "        text-align: right;\n",
       "    }\n",
       "</style>\n",
       "<table border=\"1\" class=\"dataframe\">\n",
       "  <thead>\n",
       "    <tr style=\"text-align: right;\">\n",
       "      <th>Segmentation</th>\n",
       "      <th>A</th>\n",
       "      <th>B</th>\n",
       "      <th>C</th>\n",
       "      <th>D</th>\n",
       "    </tr>\n",
       "    <tr>\n",
       "      <th>Profession</th>\n",
       "      <th></th>\n",
       "      <th></th>\n",
       "      <th></th>\n",
       "      <th></th>\n",
       "    </tr>\n",
       "  </thead>\n",
       "  <tbody>\n",
       "    <tr>\n",
       "      <th>Artist</th>\n",
       "      <td>546</td>\n",
       "      <td>730</td>\n",
       "      <td>1038</td>\n",
       "      <td>135</td>\n",
       "    </tr>\n",
       "    <tr>\n",
       "      <th>Doctor</th>\n",
       "      <td>190</td>\n",
       "      <td>140</td>\n",
       "      <td>138</td>\n",
       "      <td>200</td>\n",
       "    </tr>\n",
       "    <tr>\n",
       "      <th>Engineer</th>\n",
       "      <td>249</td>\n",
       "      <td>181</td>\n",
       "      <td>73</td>\n",
       "      <td>171</td>\n",
       "    </tr>\n",
       "    <tr>\n",
       "      <th>Entertainment</th>\n",
       "      <td>354</td>\n",
       "      <td>213</td>\n",
       "      <td>144</td>\n",
       "      <td>208</td>\n",
       "    </tr>\n",
       "    <tr>\n",
       "      <th>Executive</th>\n",
       "      <td>117</td>\n",
       "      <td>176</td>\n",
       "      <td>175</td>\n",
       "      <td>110</td>\n",
       "    </tr>\n",
       "    <tr>\n",
       "      <th>Healthcare</th>\n",
       "      <td>105</td>\n",
       "      <td>99</td>\n",
       "      <td>134</td>\n",
       "      <td>933</td>\n",
       "    </tr>\n",
       "    <tr>\n",
       "      <th>Homemaker</th>\n",
       "      <td>69</td>\n",
       "      <td>53</td>\n",
       "      <td>26</td>\n",
       "      <td>86</td>\n",
       "    </tr>\n",
       "    <tr>\n",
       "      <th>Lawyer</th>\n",
       "      <td>185</td>\n",
       "      <td>157</td>\n",
       "      <td>135</td>\n",
       "      <td>121</td>\n",
       "    </tr>\n",
       "    <tr>\n",
       "      <th>Marketing</th>\n",
       "      <td>52</td>\n",
       "      <td>30</td>\n",
       "      <td>33</td>\n",
       "      <td>163</td>\n",
       "    </tr>\n",
       "  </tbody>\n",
       "</table>\n",
       "</div>"
      ],
      "text/plain": [
       "Segmentation     A    B     C    D\n",
       "Profession                        \n",
       "Artist         546  730  1038  135\n",
       "Doctor         190  140   138  200\n",
       "Engineer       249  181    73  171\n",
       "Entertainment  354  213   144  208\n",
       "Executive      117  176   175  110\n",
       "Healthcare     105   99   134  933\n",
       "Homemaker       69   53    26   86\n",
       "Lawyer         185  157   135  121\n",
       "Marketing       52   30    33  163"
      ]
     },
     "execution_count": 32,
     "metadata": {},
     "output_type": "execute_result"
    }
   ],
   "source": [
    "print('Original values')\n",
    "table_profession.table_orig"
   ]
  },
  {
   "cell_type": "code",
   "execution_count": 33,
   "id": "steady-mercury",
   "metadata": {},
   "outputs": [
    {
     "name": "stdout",
     "output_type": "stream",
     "text": [
      "df          3\n",
      "pvalue      0.0\n",
      "statistic   1021.6728101651402\n"
     ]
    }
   ],
   "source": [
    "print(table_graduated.test_nominal_association())"
   ]
  },
  {
   "cell_type": "markdown",
   "id": "special-disability",
   "metadata": {},
   "source": [
    "### Var_1"
   ]
  },
  {
   "cell_type": "code",
   "execution_count": 34,
   "id": "auburn-fantasy",
   "metadata": {},
   "outputs": [],
   "source": [
    "table_var1 = sm.stats.Table.from_data(dataset[['Var_1', 'Segmentation']])"
   ]
  },
  {
   "cell_type": "code",
   "execution_count": 35,
   "id": "figured-knife",
   "metadata": {},
   "outputs": [
    {
     "name": "stdout",
     "output_type": "stream",
     "text": [
      "Estimatives for independecy\n"
     ]
    },
    {
     "data": {
      "text/html": [
       "<div>\n",
       "<style scoped>\n",
       "    .dataframe tbody tr th:only-of-type {\n",
       "        vertical-align: middle;\n",
       "    }\n",
       "\n",
       "    .dataframe tbody tr th {\n",
       "        vertical-align: top;\n",
       "    }\n",
       "\n",
       "    .dataframe thead th {\n",
       "        text-align: right;\n",
       "    }\n",
       "</style>\n",
       "<table border=\"1\" class=\"dataframe\">\n",
       "  <thead>\n",
       "    <tr style=\"text-align: right;\">\n",
       "      <th>Segmentation</th>\n",
       "      <th>A</th>\n",
       "      <th>B</th>\n",
       "      <th>C</th>\n",
       "      <th>D</th>\n",
       "    </tr>\n",
       "    <tr>\n",
       "      <th>Var_1</th>\n",
       "      <th></th>\n",
       "      <th></th>\n",
       "      <th></th>\n",
       "      <th></th>\n",
       "    </tr>\n",
       "  </thead>\n",
       "  <tbody>\n",
       "    <tr>\n",
       "      <th>Cat_1</th>\n",
       "      <td>30.917851</td>\n",
       "      <td>29.460555</td>\n",
       "      <td>31.398096</td>\n",
       "      <td>35.223497</td>\n",
       "    </tr>\n",
       "    <tr>\n",
       "      <th>Cat_2</th>\n",
       "      <td>98.596297</td>\n",
       "      <td>93.949016</td>\n",
       "      <td>100.127787</td>\n",
       "      <td>112.326901</td>\n",
       "    </tr>\n",
       "    <tr>\n",
       "      <th>Cat_3</th>\n",
       "      <td>185.263659</td>\n",
       "      <td>176.531360</td>\n",
       "      <td>188.141348</td>\n",
       "      <td>211.063633</td>\n",
       "    </tr>\n",
       "    <tr>\n",
       "      <th>Cat_4</th>\n",
       "      <td>247.099361</td>\n",
       "      <td>235.452471</td>\n",
       "      <td>250.937541</td>\n",
       "      <td>281.510627</td>\n",
       "    </tr>\n",
       "    <tr>\n",
       "      <th>Cat_5</th>\n",
       "      <td>19.719259</td>\n",
       "      <td>18.789803</td>\n",
       "      <td>20.025557</td>\n",
       "      <td>22.465380</td>\n",
       "    </tr>\n",
       "    <tr>\n",
       "      <th>Cat_6</th>\n",
       "      <td>1238.661625</td>\n",
       "      <td>1180.278002</td>\n",
       "      <td>1257.901682</td>\n",
       "      <td>1411.158691</td>\n",
       "    </tr>\n",
       "    <tr>\n",
       "      <th>Cat_7</th>\n",
       "      <td>46.741948</td>\n",
       "      <td>44.538793</td>\n",
       "      <td>47.467988</td>\n",
       "      <td>53.251271</td>\n",
       "    </tr>\n",
       "  </tbody>\n",
       "</table>\n",
       "</div>"
      ],
      "text/plain": [
       "Segmentation            A            B            C            D\n",
       "Var_1                                                           \n",
       "Cat_1           30.917851    29.460555    31.398096    35.223497\n",
       "Cat_2           98.596297    93.949016   100.127787   112.326901\n",
       "Cat_3          185.263659   176.531360   188.141348   211.063633\n",
       "Cat_4          247.099361   235.452471   250.937541   281.510627\n",
       "Cat_5           19.719259    18.789803    20.025557    22.465380\n",
       "Cat_6         1238.661625  1180.278002  1257.901682  1411.158691\n",
       "Cat_7           46.741948    44.538793    47.467988    53.251271"
      ]
     },
     "execution_count": 35,
     "metadata": {},
     "output_type": "execute_result"
    }
   ],
   "source": [
    "print('Estimatives for independecy')\n",
    "table_var1.fittedvalues"
   ]
  },
  {
   "cell_type": "code",
   "execution_count": 36,
   "id": "requested-corrections",
   "metadata": {},
   "outputs": [
    {
     "name": "stdout",
     "output_type": "stream",
     "text": [
      "Original values\n"
     ]
    },
    {
     "data": {
      "text/html": [
       "<div>\n",
       "<style scoped>\n",
       "    .dataframe tbody tr th:only-of-type {\n",
       "        vertical-align: middle;\n",
       "    }\n",
       "\n",
       "    .dataframe tbody tr th {\n",
       "        vertical-align: top;\n",
       "    }\n",
       "\n",
       "    .dataframe thead th {\n",
       "        text-align: right;\n",
       "    }\n",
       "</style>\n",
       "<table border=\"1\" class=\"dataframe\">\n",
       "  <thead>\n",
       "    <tr style=\"text-align: right;\">\n",
       "      <th>Segmentation</th>\n",
       "      <th>A</th>\n",
       "      <th>B</th>\n",
       "      <th>C</th>\n",
       "      <th>D</th>\n",
       "    </tr>\n",
       "    <tr>\n",
       "      <th>Var_1</th>\n",
       "      <th></th>\n",
       "      <th></th>\n",
       "      <th></th>\n",
       "      <th></th>\n",
       "    </tr>\n",
       "  </thead>\n",
       "  <tbody>\n",
       "    <tr>\n",
       "      <th>Cat_1</th>\n",
       "      <td>29</td>\n",
       "      <td>25</td>\n",
       "      <td>26</td>\n",
       "      <td>47</td>\n",
       "    </tr>\n",
       "    <tr>\n",
       "      <th>Cat_2</th>\n",
       "      <td>82</td>\n",
       "      <td>99</td>\n",
       "      <td>94</td>\n",
       "      <td>130</td>\n",
       "    </tr>\n",
       "    <tr>\n",
       "      <th>Cat_3</th>\n",
       "      <td>201</td>\n",
       "      <td>179</td>\n",
       "      <td>141</td>\n",
       "      <td>240</td>\n",
       "    </tr>\n",
       "    <tr>\n",
       "      <th>Cat_4</th>\n",
       "      <td>314</td>\n",
       "      <td>217</td>\n",
       "      <td>103</td>\n",
       "      <td>381</td>\n",
       "    </tr>\n",
       "    <tr>\n",
       "      <th>Cat_5</th>\n",
       "      <td>18</td>\n",
       "      <td>20</td>\n",
       "      <td>18</td>\n",
       "      <td>25</td>\n",
       "    </tr>\n",
       "    <tr>\n",
       "      <th>Cat_6</th>\n",
       "      <td>1176</td>\n",
       "      <td>1197</td>\n",
       "      <td>1469</td>\n",
       "      <td>1246</td>\n",
       "    </tr>\n",
       "    <tr>\n",
       "      <th>Cat_7</th>\n",
       "      <td>47</td>\n",
       "      <td>42</td>\n",
       "      <td>45</td>\n",
       "      <td>58</td>\n",
       "    </tr>\n",
       "  </tbody>\n",
       "</table>\n",
       "</div>"
      ],
      "text/plain": [
       "Segmentation     A     B     C     D\n",
       "Var_1                               \n",
       "Cat_1           29    25    26    47\n",
       "Cat_2           82    99    94   130\n",
       "Cat_3          201   179   141   240\n",
       "Cat_4          314   217   103   381\n",
       "Cat_5           18    20    18    25\n",
       "Cat_6         1176  1197  1469  1246\n",
       "Cat_7           47    42    45    58"
      ]
     },
     "execution_count": 36,
     "metadata": {},
     "output_type": "execute_result"
    }
   ],
   "source": [
    "print('Original values')\n",
    "table_var1.table_orig"
   ]
  },
  {
   "cell_type": "code",
   "execution_count": 37,
   "id": "dietary-expense",
   "metadata": {},
   "outputs": [
    {
     "name": "stdout",
     "output_type": "stream",
     "text": [
      "null_mean   49696.88042769592\n",
      "null_sd     140.85838321806077\n",
      "pvalue      0.09541633097998235\n",
      "statistic   49462.0\n",
      "zscore      -1.6674934237481984\n"
     ]
    }
   ],
   "source": [
    "print(table_var1.test_ordinal_association())"
   ]
  },
  {
   "cell_type": "markdown",
   "id": "narrow-forth",
   "metadata": {},
   "source": [
    "- only results for Var_1 had a pvalue 0.09, which means that variable is independent for Segmentation; this variable will be exclude from model\n",
    "- when I did not imput Var_1 in model the mean accuracy is the same, but the model understand more the differences between Segmentations  \n",
    "- Segmentation B increase the accuracy"
   ]
  },
  {
   "cell_type": "markdown",
   "id": "shared-carbon",
   "metadata": {},
   "source": [
    "### Work_Experience"
   ]
  },
  {
   "cell_type": "code",
   "execution_count": 38,
   "id": "amateur-commodity",
   "metadata": {},
   "outputs": [],
   "source": [
    "table_work = sm.stats.Table.from_data(dataset[['Work_Experience', 'Segmentation']])"
   ]
  },
  {
   "cell_type": "code",
   "execution_count": 39,
   "id": "announced-sharp",
   "metadata": {},
   "outputs": [
    {
     "name": "stdout",
     "output_type": "stream",
     "text": [
      "Statistc test for ordinal data\n",
      "null_mean   29559.73190768027\n",
      "null_sd     325.1875360013917\n",
      "pvalue      0.6819385886823095\n",
      "statistic   29693.0\n",
      "zscore      0.40981918913140364\n"
     ]
    }
   ],
   "source": [
    "print('Statistc test for ordinal data')\n",
    "print(table_work.test_ordinal_association())"
   ]
  },
  {
   "cell_type": "markdown",
   "id": "peaceful-gossip",
   "metadata": {},
   "source": [
    "### Age"
   ]
  },
  {
   "cell_type": "code",
   "execution_count": 40,
   "id": "north-riding",
   "metadata": {},
   "outputs": [],
   "source": [
    "table_age = sm.stats.Table.from_data(dataset[['Age', 'Segmentation']])"
   ]
  },
  {
   "cell_type": "code",
   "execution_count": 41,
   "id": "handed-stanley",
   "metadata": {},
   "outputs": [
    {
     "name": "stdout",
     "output_type": "stream",
     "text": [
      "Statistc test for ordinal data\n",
      "null_mean   276655.5264050072\n",
      "null_sd     1513.2954623815967\n",
      "pvalue      4.883481607805572e-97\n",
      "statistic   245021.0\n",
      "zscore      -20.904395203314316\n"
     ]
    }
   ],
   "source": [
    "print('Statistc test for ordinal data')\n",
    "print(table_age.test_ordinal_association())"
   ]
  },
  {
   "cell_type": "markdown",
   "id": "combined-demographic",
   "metadata": {},
   "source": [
    "- the pvalue for numeric ordinal variables 'Age' and 'Work_Experience' is very different for each one: for Age pvalue is very close to zero and for Work_Experience is very bigger then 0.05, which rejected null hipotesys\n",
    "- I will exclude Work_Experience from classification model"
   ]
  },
  {
   "cell_type": "markdown",
   "id": "racial-nightmare",
   "metadata": {},
   "source": [
    "## New Variables"
   ]
  },
  {
   "cell_type": "markdown",
   "id": "republican-edmonton",
   "metadata": {},
   "source": [
    "### OrdinalEncoder"
   ]
  },
  {
   "cell_type": "code",
   "execution_count": 42,
   "id": "chief-luther",
   "metadata": {},
   "outputs": [],
   "source": [
    "X_ordinal_new = dataset_ordinal[['Ever_Married', 'Age', 'Graduated', 'Profession', 'Spending_Score']]\n",
    "y_ordinal_new = dataset_ordinal['Segmentation']"
   ]
  },
  {
   "cell_type": "markdown",
   "id": "essential-pillow",
   "metadata": {},
   "source": [
    "## model6_1 - test3 change variables"
   ]
  },
  {
   "cell_type": "code",
   "execution_count": 43,
   "id": "square-professor",
   "metadata": {},
   "outputs": [
    {
     "name": "stdout",
     "output_type": "stream",
     "text": [
      "ACCURACY FOR 1 ITERATIONS\n",
      "Max = 0.5067\n",
      "Mean = 0.5067\n",
      "Min = 0.5067\n",
      "Std = 0.0000\n",
      "RandomForestClassifier(class_weight='balanced', max_depth=4,\n",
      "                       min_samples_leaf=30)\n"
     ]
    }
   ],
   "source": [
    "#first - split train and test data\n",
    "accuracy_list = []\n",
    "iterations = 1\n",
    "for iter in range(0, iterations):\n",
    "    X_train, X_test, y_train, y_test = train_test_split(X_ordinal_new, y_ordinal_new, train_size=0.7, stratify=y_ordinal)\n",
    "\n",
    "    #third - macinhe learning apply\n",
    "    model6_1 = RandomForestClassifier(max_depth=4, min_samples_leaf=30, class_weight='balanced')\n",
    "    model6_1.fit(X_train, y_train)\n",
    "    y_predict = model6_1.predict(X_test)\n",
    "\n",
    "    #fourth - test accuray\n",
    "    accuracy = accuracy_score(y_test, y_predict)\n",
    "    accuracy_list.append(accuracy)\n",
    "\n",
    "max_accuracy = np.asarray(accuracy_list).max()\n",
    "mean_accuracy = np.asarray(accuracy_list).mean()\n",
    "min_accuracy = np.asarray(accuracy_list).min()\n",
    "std_accuracy = np.asarray(accuracy_list).std()\n",
    "print(f'ACCURACY FOR {iterations} ITERATIONS')\n",
    "print(f'Max = {max_accuracy:.4f}\\nMean = {mean_accuracy:.4f}\\nMin = {min_accuracy:.4f}\\nStd = {std_accuracy:.4f}')\n",
    "print(model6_1.set_params())"
   ]
  },
  {
   "cell_type": "markdown",
   "id": "swiss-intermediate",
   "metadata": {},
   "source": [
    "### Ckeck results"
   ]
  },
  {
   "cell_type": "code",
   "execution_count": 44,
   "id": "italic-character",
   "metadata": {},
   "outputs": [],
   "source": [
    "#create DataFrame with errors\n",
    "dict_compare = {'Real':y_test.values, 'Predict':y_predict}\n",
    "dataset_error = pd.DataFrame(dict_compare, index=y_test.index)\n",
    "dataset_error['Error'] = dataset_error['Real'] !=dataset_error['Predict']\n",
    "dataset_error['Cat_Real'] = dataset_error['Real'].map({0:'A', 1:'B', 2:'C', 3:'D'})\n",
    "dataset_error['Cat_Predict'] = dataset_error['Predict'].map({0:'A', 1:'B', 2:'C', 3:'D'})"
   ]
  },
  {
   "cell_type": "code",
   "execution_count": 45,
   "id": "rational-spread",
   "metadata": {},
   "outputs": [
    {
     "name": "stdout",
     "output_type": "stream",
     "text": [
      "Percent of Error for each Segmentation\n"
     ]
    },
    {
     "data": {
      "text/html": [
       "<div>\n",
       "<style scoped>\n",
       "    .dataframe tbody tr th:only-of-type {\n",
       "        vertical-align: middle;\n",
       "    }\n",
       "\n",
       "    .dataframe tbody tr th {\n",
       "        vertical-align: top;\n",
       "    }\n",
       "\n",
       "    .dataframe thead th {\n",
       "        text-align: right;\n",
       "    }\n",
       "</style>\n",
       "<table border=\"1\" class=\"dataframe\">\n",
       "  <thead>\n",
       "    <tr style=\"text-align: right;\">\n",
       "      <th>Error</th>\n",
       "      <th>False</th>\n",
       "      <th>True</th>\n",
       "    </tr>\n",
       "    <tr>\n",
       "      <th>Cat_Real</th>\n",
       "      <th></th>\n",
       "      <th></th>\n",
       "    </tr>\n",
       "  </thead>\n",
       "  <tbody>\n",
       "    <tr>\n",
       "      <th>A</th>\n",
       "      <td>0.462500</td>\n",
       "      <td>0.537500</td>\n",
       "    </tr>\n",
       "    <tr>\n",
       "      <th>B</th>\n",
       "      <td>0.295880</td>\n",
       "      <td>0.704120</td>\n",
       "    </tr>\n",
       "    <tr>\n",
       "      <th>C</th>\n",
       "      <td>0.567663</td>\n",
       "      <td>0.432337</td>\n",
       "    </tr>\n",
       "    <tr>\n",
       "      <th>D</th>\n",
       "      <td>0.667712</td>\n",
       "      <td>0.332288</td>\n",
       "    </tr>\n",
       "  </tbody>\n",
       "</table>\n",
       "</div>"
      ],
      "text/plain": [
       "Error        False     True \n",
       "Cat_Real                    \n",
       "A         0.462500  0.537500\n",
       "B         0.295880  0.704120\n",
       "C         0.567663  0.432337\n",
       "D         0.667712  0.332288"
      ]
     },
     "execution_count": 45,
     "metadata": {},
     "output_type": "execute_result"
    }
   ],
   "source": [
    "print('Percent of Error for each Segmentation')\n",
    "pd.crosstab(index=dataset_error['Cat_Real'], columns=dataset_error['Error'], normalize='index')"
   ]
  },
  {
   "cell_type": "markdown",
   "id": "difficult-pioneer",
   "metadata": {},
   "source": [
    "- the model could not understand Segmentation B"
   ]
  },
  {
   "cell_type": "markdown",
   "id": "married-duncan",
   "metadata": {},
   "source": [
    "### look outputs"
   ]
  },
  {
   "cell_type": "code",
   "execution_count": 46,
   "id": "seeing-marketing",
   "metadata": {},
   "outputs": [
    {
     "name": "stdout",
     "output_type": "stream",
     "text": [
      "Importance per feature\n"
     ]
    },
    {
     "data": {
      "text/html": [
       "<div>\n",
       "<style scoped>\n",
       "    .dataframe tbody tr th:only-of-type {\n",
       "        vertical-align: middle;\n",
       "    }\n",
       "\n",
       "    .dataframe tbody tr th {\n",
       "        vertical-align: top;\n",
       "    }\n",
       "\n",
       "    .dataframe thead th {\n",
       "        text-align: right;\n",
       "    }\n",
       "</style>\n",
       "<table border=\"1\" class=\"dataframe\">\n",
       "  <thead>\n",
       "    <tr style=\"text-align: right;\">\n",
       "      <th></th>\n",
       "      <th>Importance</th>\n",
       "    </tr>\n",
       "  </thead>\n",
       "  <tbody>\n",
       "    <tr>\n",
       "      <th>Ever_Married</th>\n",
       "      <td>0.088546</td>\n",
       "    </tr>\n",
       "    <tr>\n",
       "      <th>Age</th>\n",
       "      <td>0.385167</td>\n",
       "    </tr>\n",
       "    <tr>\n",
       "      <th>Graduated</th>\n",
       "      <td>0.079587</td>\n",
       "    </tr>\n",
       "    <tr>\n",
       "      <th>Profession</th>\n",
       "      <td>0.237220</td>\n",
       "    </tr>\n",
       "    <tr>\n",
       "      <th>Spending_Score</th>\n",
       "      <td>0.209479</td>\n",
       "    </tr>\n",
       "  </tbody>\n",
       "</table>\n",
       "</div>"
      ],
      "text/plain": [
       "                Importance\n",
       "Ever_Married      0.088546\n",
       "Age               0.385167\n",
       "Graduated         0.079587\n",
       "Profession        0.237220\n",
       "Spending_Score    0.209479"
      ]
     },
     "execution_count": 46,
     "metadata": {},
     "output_type": "execute_result"
    }
   ],
   "source": [
    "print('Importance per feature')\n",
    "pd.DataFrame(data={'Importance':model6_1.feature_importances_}, index=X_ordinal_new.columns)"
   ]
  },
  {
   "cell_type": "markdown",
   "id": "suspected-brazilian",
   "metadata": {},
   "source": [
    "- 40% of decisions was made based in Age\n",
    "- Age for Segmentation B is not much different for C and A\n",
    "- Seems important see this variable much closer"
   ]
  },
  {
   "cell_type": "markdown",
   "id": "nominated-nothing",
   "metadata": {},
   "source": [
    "### Age Boxplot for Segmentation"
   ]
  },
  {
   "cell_type": "code",
   "execution_count": 47,
   "id": "laughing-carolina",
   "metadata": {},
   "outputs": [
    {
     "data": {
      "text/plain": [
       "Text(0.5, 1.0, 'Graphic 1 - Boxplot for Segmentation')"
      ]
     },
     "execution_count": 47,
     "metadata": {},
     "output_type": "execute_result"
    },
    {
     "data": {
      "image/png": "[encoded data removed]",
      "text/plain": [
       "<Figure size 1080x432 with 1 Axes>"
      ]
     },
     "metadata": {},
     "output_type": "display_data"
    }
   ],
   "source": [
    "graphic1 = sns.boxplot(y=dataset['Age'], x=dataset['Segmentation'])\n",
    "graphic1.figure.set_size_inches(15,6)\n",
    "graphic1.set_title('Graphic 1 - Boxplot for Segmentation', fontsize=22, color='gray')"
   ]
  },
  {
   "cell_type": "code",
   "execution_count": 48,
   "id": "tested-cookie",
   "metadata": {},
   "outputs": [
    {
     "data": {
      "text/plain": [
       "Text(0.5, 1.0, 'D')"
      ]
     },
     "execution_count": 48,
     "metadata": {},
     "output_type": "execute_result"
    },
    {
     "data": {
      "image/png": "[encoded data removed]",
      "text/plain": [
       "<Figure size 1296x720 with 4 Axes>"
      ]
     },
     "metadata": {},
     "output_type": "display_data"
    }
   ],
   "source": [
    "fig, axes = plt.subplots(2,2, figsize=(18,10))\n",
    "fig.suptitle('Age Distribution for Segmentation')\n",
    "\n",
    "#Segmentation A\n",
    "sns.countplot(ax=axes[0,0], data=dataset.query('Segmentation==\"A\"'), x='Age')\n",
    "axes[0,0].set_title('A')\n",
    "#Segmentation B\n",
    "sns.countplot(ax=axes[0,1], data=dataset.query('Segmentation==\"B\"'), x='Age')\n",
    "axes[0,1].set_title('B')\n",
    "#Segmentation C\n",
    "sns.countplot(ax=axes[1,0], data=dataset.query('Segmentation==\"C\"'), x='Age')\n",
    "axes[1,0].set_title('C')\n",
    "#Segmentation D\n",
    "sns.countplot(ax=axes[1,1], data=dataset.query('Segmentation==\"D\"'), x='Age')\n",
    "axes[1,1].set_title('D')"
   ]
  },
  {
   "cell_type": "markdown",
   "id": "flush-isolation",
   "metadata": {},
   "source": [
    "- Segmentation D is more easy to understand because there are very diferentiation in Age (median is 15 years low)\n",
    "- I need to create a diferentiation for Segmentation B in variable Age\n",
    "- I need to decrease the weight of Age in model; solution is create some categories of age"
   ]
  },
  {
   "cell_type": "markdown",
   "id": "patient-living",
   "metadata": {},
   "source": [
    "### Age categories"
   ]
  },
  {
   "cell_type": "code",
   "execution_count": 49,
   "id": "seasonal-stability",
   "metadata": {},
   "outputs": [],
   "source": [
    "#iteration for split age in categories\n",
    "age_array = dataset['Age'].values\n",
    "age_list = []\n",
    "for age in age_array:\n",
    "    if age >75:\n",
    "        age_list.append(12)\n",
    "    elif age >=71 and age <=75:\n",
    "        age_list.append(11)\n",
    "    elif age >=66 and age <=70:\n",
    "        age_list.append(10)\n",
    "    elif age >=61 and age <=65:\n",
    "        age_list.append(9)\n",
    "    elif age >=56 and age <=60:\n",
    "        age_list.append(8)\n",
    "    elif age >=51 and age <=55:\n",
    "        age_list.append(7)\n",
    "    elif age >=46 and age <=50:\n",
    "        age_list.append(6)\n",
    "    elif age >=41 and age <=45:\n",
    "        age_list.append(5)\n",
    "    elif age >=36 and age <=40:\n",
    "        age_list.append(4)\n",
    "    elif age >=31 and age <=35:\n",
    "        age_list.append(3)\n",
    "    elif age >=26 and age <=30:\n",
    "        age_list.append(2)\n",
    "    else:\n",
    "        age_list.append(1)\n",
    "\n",
    "#create variables in dataset\n",
    "dataset['age_value_categories'] = np.asarray(age_list)\n",
    "age_categories = {1:'18-25', 2:'26-30', 3:'31-35', 4:'36-40', 5:'41-45', 6:'46-50', \n",
    "              7:'51-55', 8:'56-60', 9:'61-65', 10:'66-70', 11:'71-75', 12:'75+'}\n",
    "dataset['age_categories'] = dataset['age_value_categories'].map(age_categories)"
   ]
  },
  {
   "cell_type": "code",
   "execution_count": 50,
   "id": "proper-awareness",
   "metadata": {},
   "outputs": [
    {
     "data": {
      "text/plain": [
       "Text(0.5, 1.0, 'D')"
      ]
     },
     "execution_count": 50,
     "metadata": {},
     "output_type": "execute_result"
    },
    {
     "data": {
      "image/png": "[encoded data removed]",
      "text/plain": [
       "<Figure size 1296x720 with 4 Axes>"
      ]
     },
     "metadata": {},
     "output_type": "display_data"
    }
   ],
   "source": [
    "fig, axes = plt.subplots(2,2, figsize=(18,10))\n",
    "fig.suptitle('Age Categories Distribution for Segmentation')\n",
    "\n",
    "#Segmentation A\n",
    "sns.countplot(ax=axes[0,0], data=dataset.query('Segmentation==\"A\"'), x='age_categories', \n",
    "              order=list(age_categories.values()))\n",
    "axes[0,0].set_title('A')\n",
    "#Segmentation B\n",
    "sns.countplot(ax=axes[0,1], data=dataset.query('Segmentation==\"B\"'), x='age_categories',\n",
    "             order=list(age_categories.values()))\n",
    "axes[0,1].set_title('B')\n",
    "#Segmentation C\n",
    "sns.countplot(ax=axes[1,0], data=dataset.query('Segmentation==\"C\"'), x='age_categories',\n",
    "             order=list(age_categories.values()))\n",
    "axes[1,0].set_title('C')\n",
    "#Segmentation D\n",
    "sns.countplot(ax=axes[1,1], data=dataset.query('Segmentation==\"D\"'), x='age_categories',\n",
    "             order=list(age_categories.values()))\n",
    "axes[1,1].set_title('D')"
   ]
  },
  {
   "cell_type": "markdown",
   "id": "documented-agriculture",
   "metadata": {},
   "source": [
    "## model6_2 - test6, change variables and age categories"
   ]
  },
  {
   "cell_type": "markdown",
   "id": "aware-inflation",
   "metadata": {},
   "source": [
    "### Ordinal Encoder"
   ]
  },
  {
   "cell_type": "code",
   "execution_count": 51,
   "id": "twelve-photographer",
   "metadata": {},
   "outputs": [],
   "source": [
    "#add variable age_value_categories in dataset_ordinal\n",
    "dataset_ordinal['age_value_categories'] = dataset['age_value_categories']\n",
    "\n",
    "X_ordinal_new2 = dataset_ordinal[['Ever_Married', 'Graduated', 'Profession', 'Spending_Score', 'age_value_categories']]\n",
    "y_ordinal_new2 = dataset_ordinal['Segmentation']"
   ]
  },
  {
   "cell_type": "code",
   "execution_count": 52,
   "id": "swiss-uniform",
   "metadata": {},
   "outputs": [
    {
     "name": "stdout",
     "output_type": "stream",
     "text": [
      "ACCURACY FOR 1 ITERATIONS\n",
      "Max = 0.5185\n",
      "Mean = 0.5185\n",
      "Min = 0.5185\n",
      "Std = 0.0000\n",
      "RandomForestClassifier(max_depth=4, min_samples_leaf=30)\n"
     ]
    }
   ],
   "source": [
    "#first - split train and test data\n",
    "accuracy_list = []\n",
    "iterations = 1\n",
    "for iter in range(0, iterations):\n",
    "    X_train, X_test, y_train, y_test = train_test_split(X_ordinal_new2, y_ordinal_new2, train_size=0.7, \n",
    "                                                        stratify=y_ordinal_new2)\n",
    "\n",
    "    #third - macinhe learning apply\n",
    "    model6_2 = RandomForestClassifier(max_depth=4, min_samples_leaf=30)\n",
    "    model6_2.fit(X_train, y_train)\n",
    "    y_predict = model6_2.predict(X_test)\n",
    "\n",
    "    #fourth - test accuray\n",
    "    accuracy = accuracy_score(y_test, y_predict)\n",
    "    accuracy_list.append(accuracy)\n",
    "\n",
    "max_accuracy = np.asarray(accuracy_list).max()\n",
    "mean_accuracy = np.asarray(accuracy_list).mean()\n",
    "min_accuracy = np.asarray(accuracy_list).min()\n",
    "std_accuracy = np.asarray(accuracy_list).std()\n",
    "print(f'ACCURACY FOR {iterations} ITERATIONS')\n",
    "print(f'Max = {max_accuracy:.4f}\\nMean = {mean_accuracy:.4f}\\nMin = {min_accuracy:.4f}\\nStd = {std_accuracy:.4f}')\n",
    "print(model6_2.set_params())"
   ]
  },
  {
   "cell_type": "code",
   "execution_count": 53,
   "id": "frozen-configuration",
   "metadata": {},
   "outputs": [],
   "source": [
    "#create DataFrame with errors\n",
    "dict_compare = {'Real':y_test.values, 'Predict':y_predict}\n",
    "dataset_error = pd.DataFrame(dict_compare, index=y_test.index)\n",
    "dataset_error['Error'] = dataset_error['Real'] !=dataset_error['Predict']\n",
    "dataset_error['Cat_Real'] = dataset_error['Real'].map({0:'A', 1:'B', 2:'C', 3:'D'})\n",
    "dataset_error['Cat_Predict'] = dataset_error['Predict'].map({0:'A', 1:'B', 2:'C', 3:'D'})"
   ]
  },
  {
   "cell_type": "code",
   "execution_count": 54,
   "id": "christian-preparation",
   "metadata": {},
   "outputs": [
    {
     "name": "stdout",
     "output_type": "stream",
     "text": [
      "Percent of Error for each Segmentation\n"
     ]
    },
    {
     "data": {
      "text/html": [
       "<div>\n",
       "<style scoped>\n",
       "    .dataframe tbody tr th:only-of-type {\n",
       "        vertical-align: middle;\n",
       "    }\n",
       "\n",
       "    .dataframe tbody tr th {\n",
       "        vertical-align: top;\n",
       "    }\n",
       "\n",
       "    .dataframe thead th {\n",
       "        text-align: right;\n",
       "    }\n",
       "</style>\n",
       "<table border=\"1\" class=\"dataframe\">\n",
       "  <thead>\n",
       "    <tr style=\"text-align: right;\">\n",
       "      <th>Error</th>\n",
       "      <th>False</th>\n",
       "      <th>True</th>\n",
       "    </tr>\n",
       "    <tr>\n",
       "      <th>Cat_Real</th>\n",
       "      <th></th>\n",
       "      <th></th>\n",
       "    </tr>\n",
       "  </thead>\n",
       "  <tbody>\n",
       "    <tr>\n",
       "      <th>A</th>\n",
       "      <td>0.467857</td>\n",
       "      <td>0.532143</td>\n",
       "    </tr>\n",
       "    <tr>\n",
       "      <th>B</th>\n",
       "      <td>0.299625</td>\n",
       "      <td>0.700375</td>\n",
       "    </tr>\n",
       "    <tr>\n",
       "      <th>C</th>\n",
       "      <td>0.565905</td>\n",
       "      <td>0.434095</td>\n",
       "    </tr>\n",
       "    <tr>\n",
       "      <th>D</th>\n",
       "      <td>0.703762</td>\n",
       "      <td>0.296238</td>\n",
       "    </tr>\n",
       "  </tbody>\n",
       "</table>\n",
       "</div>"
      ],
      "text/plain": [
       "Error        False     True \n",
       "Cat_Real                    \n",
       "A         0.467857  0.532143\n",
       "B         0.299625  0.700375\n",
       "C         0.565905  0.434095\n",
       "D         0.703762  0.296238"
      ]
     },
     "execution_count": 54,
     "metadata": {},
     "output_type": "execute_result"
    }
   ],
   "source": [
    "print('Percent of Error for each Segmentation')\n",
    "pd.crosstab(index=dataset_error['Cat_Real'], columns=dataset_error['Error'], normalize='index')"
   ]
  },
  {
   "cell_type": "code",
   "execution_count": 55,
   "id": "organizational-breakfast",
   "metadata": {
    "scrolled": true
   },
   "outputs": [
    {
     "data": {
      "text/html": [
       "<div>\n",
       "<style scoped>\n",
       "    .dataframe tbody tr th:only-of-type {\n",
       "        vertical-align: middle;\n",
       "    }\n",
       "\n",
       "    .dataframe tbody tr th {\n",
       "        vertical-align: top;\n",
       "    }\n",
       "\n",
       "    .dataframe thead th {\n",
       "        text-align: right;\n",
       "    }\n",
       "</style>\n",
       "<table border=\"1\" class=\"dataframe\">\n",
       "  <thead>\n",
       "    <tr style=\"text-align: right;\">\n",
       "      <th></th>\n",
       "      <th>Importance</th>\n",
       "    </tr>\n",
       "  </thead>\n",
       "  <tbody>\n",
       "    <tr>\n",
       "      <th>Ever_Married</th>\n",
       "      <td>0.111677</td>\n",
       "    </tr>\n",
       "    <tr>\n",
       "      <th>Graduated</th>\n",
       "      <td>0.089590</td>\n",
       "    </tr>\n",
       "    <tr>\n",
       "      <th>Profession</th>\n",
       "      <td>0.251517</td>\n",
       "    </tr>\n",
       "    <tr>\n",
       "      <th>Spending_Score</th>\n",
       "      <td>0.203803</td>\n",
       "    </tr>\n",
       "    <tr>\n",
       "      <th>age_value_categories</th>\n",
       "      <td>0.343414</td>\n",
       "    </tr>\n",
       "  </tbody>\n",
       "</table>\n",
       "</div>"
      ],
      "text/plain": [
       "                      Importance\n",
       "Ever_Married            0.111677\n",
       "Graduated               0.089590\n",
       "Profession              0.251517\n",
       "Spending_Score          0.203803\n",
       "age_value_categories    0.343414"
      ]
     },
     "execution_count": 55,
     "metadata": {},
     "output_type": "execute_result"
    }
   ],
   "source": [
    "pd.DataFrame(data={'Importance':model6_2.feature_importances_}, index=X_ordinal_new2.columns)"
   ]
  },
  {
   "cell_type": "markdown",
   "id": "green-berry",
   "metadata": {},
   "source": [
    "## model6_3 - test6, change variables, age categories parameters"
   ]
  },
  {
   "cell_type": "code",
   "execution_count": 56,
   "id": "russian-regard",
   "metadata": {},
   "outputs": [
    {
     "name": "stdout",
     "output_type": "stream",
     "text": [
      "ACCURACY FOR 1 ITERATIONS\n",
      "Max = 0.5037\n",
      "Mean = 0.5037\n",
      "Min = 0.5037\n",
      "Std = 0.0000\n",
      "RandomForestClassifier(class_weight='balanced', max_depth=5,\n",
      "                       min_samples_leaf=30, n_estimators=500)\n"
     ]
    }
   ],
   "source": [
    "#first - split train and test data\n",
    "accuracy_list = []\n",
    "iterations = 1\n",
    "for iter in range(0, iterations):\n",
    "    X_train, X_test, y_train, y_test = train_test_split(X_ordinal_new2, y_ordinal_new2, train_size=0.7, \n",
    "                                                        stratify=y_ordinal_new2)\n",
    "\n",
    "    #third - macinhe learning apply\n",
    "    model6_3 = RandomForestClassifier(n_estimators=500, max_depth=5, class_weight='balanced', min_samples_leaf=30)\n",
    "    model6_3.fit(X_train, y_train)\n",
    "    y_predict = model6_3.predict(X_test)\n",
    "\n",
    "    #fourth - test accuray\n",
    "    accuracy = accuracy_score(y_test, y_predict)\n",
    "    accuracy_list.append(accuracy)\n",
    "\n",
    "max_accuracy = np.asarray(accuracy_list).max()\n",
    "mean_accuracy = np.asarray(accuracy_list).mean()\n",
    "min_accuracy = np.asarray(accuracy_list).min()\n",
    "std_accuracy = np.asarray(accuracy_list).std()\n",
    "print(f'ACCURACY FOR {iterations} ITERATIONS')\n",
    "print(f'Max = {max_accuracy:.4f}\\nMean = {mean_accuracy:.4f}\\nMin = {min_accuracy:.4f}\\nStd = {std_accuracy:.4f}')\n",
    "print(model6_3.set_params())"
   ]
  },
  {
   "cell_type": "code",
   "execution_count": 57,
   "id": "figured-letter",
   "metadata": {},
   "outputs": [],
   "source": [
    "#create DataFrame with errors\n",
    "dict_compare = {'Real':y_test.values, 'Predict':y_predict}\n",
    "dataset_error = pd.DataFrame(dict_compare, index=y_test.index)\n",
    "dataset_error['Error'] = dataset_error['Real'] !=dataset_error['Predict']\n",
    "dataset_error['Cat_Real'] = dataset_error['Real'].map({0:'A', 1:'B', 2:'C', 3:'D'})\n",
    "dataset_error['Cat_Predict'] = dataset_error['Predict'].map({0:'A', 1:'B', 2:'C', 3:'D'})"
   ]
  },
  {
   "cell_type": "code",
   "execution_count": 58,
   "id": "ahead-sport",
   "metadata": {},
   "outputs": [
    {
     "name": "stdout",
     "output_type": "stream",
     "text": [
      "Percent of Error for each Segmentation\n"
     ]
    },
    {
     "data": {
      "text/html": [
       "<div>\n",
       "<style scoped>\n",
       "    .dataframe tbody tr th:only-of-type {\n",
       "        vertical-align: middle;\n",
       "    }\n",
       "\n",
       "    .dataframe tbody tr th {\n",
       "        vertical-align: top;\n",
       "    }\n",
       "\n",
       "    .dataframe thead th {\n",
       "        text-align: right;\n",
       "    }\n",
       "</style>\n",
       "<table border=\"1\" class=\"dataframe\">\n",
       "  <thead>\n",
       "    <tr style=\"text-align: right;\">\n",
       "      <th>Error</th>\n",
       "      <th>False</th>\n",
       "      <th>True</th>\n",
       "    </tr>\n",
       "    <tr>\n",
       "      <th>Cat_Real</th>\n",
       "      <th></th>\n",
       "      <th></th>\n",
       "    </tr>\n",
       "  </thead>\n",
       "  <tbody>\n",
       "    <tr>\n",
       "      <th>A</th>\n",
       "      <td>0.471429</td>\n",
       "      <td>0.528571</td>\n",
       "    </tr>\n",
       "    <tr>\n",
       "      <th>B</th>\n",
       "      <td>0.320225</td>\n",
       "      <td>0.679775</td>\n",
       "    </tr>\n",
       "    <tr>\n",
       "      <th>C</th>\n",
       "      <td>0.543058</td>\n",
       "      <td>0.456942</td>\n",
       "    </tr>\n",
       "    <tr>\n",
       "      <th>D</th>\n",
       "      <td>0.650470</td>\n",
       "      <td>0.349530</td>\n",
       "    </tr>\n",
       "  </tbody>\n",
       "</table>\n",
       "</div>"
      ],
      "text/plain": [
       "Error        False     True \n",
       "Cat_Real                    \n",
       "A         0.471429  0.528571\n",
       "B         0.320225  0.679775\n",
       "C         0.543058  0.456942\n",
       "D         0.650470  0.349530"
      ]
     },
     "execution_count": 58,
     "metadata": {},
     "output_type": "execute_result"
    }
   ],
   "source": [
    "print('Percent of Error for each Segmentation')\n",
    "pd.crosstab(index=dataset_error['Cat_Real'], columns=dataset_error['Error'], normalize='index')"
   ]
  },
  {
   "cell_type": "code",
   "execution_count": 59,
   "id": "descending-arrow",
   "metadata": {},
   "outputs": [
    {
     "data": {
      "text/html": [
       "<div>\n",
       "<style scoped>\n",
       "    .dataframe tbody tr th:only-of-type {\n",
       "        vertical-align: middle;\n",
       "    }\n",
       "\n",
       "    .dataframe tbody tr th {\n",
       "        vertical-align: top;\n",
       "    }\n",
       "\n",
       "    .dataframe thead th {\n",
       "        text-align: right;\n",
       "    }\n",
       "</style>\n",
       "<table border=\"1\" class=\"dataframe\">\n",
       "  <thead>\n",
       "    <tr style=\"text-align: right;\">\n",
       "      <th></th>\n",
       "      <th>Importance</th>\n",
       "    </tr>\n",
       "  </thead>\n",
       "  <tbody>\n",
       "    <tr>\n",
       "      <th>Ever_Married</th>\n",
       "      <td>0.125356</td>\n",
       "    </tr>\n",
       "    <tr>\n",
       "      <th>Graduated</th>\n",
       "      <td>0.090209</td>\n",
       "    </tr>\n",
       "    <tr>\n",
       "      <th>Profession</th>\n",
       "      <td>0.258575</td>\n",
       "    </tr>\n",
       "    <tr>\n",
       "      <th>Spending_Score</th>\n",
       "      <td>0.184283</td>\n",
       "    </tr>\n",
       "    <tr>\n",
       "      <th>age_value_categories</th>\n",
       "      <td>0.341577</td>\n",
       "    </tr>\n",
       "  </tbody>\n",
       "</table>\n",
       "</div>"
      ],
      "text/plain": [
       "                      Importance\n",
       "Ever_Married            0.125356\n",
       "Graduated               0.090209\n",
       "Profession              0.258575\n",
       "Spending_Score          0.184283\n",
       "age_value_categories    0.341577"
      ]
     },
     "execution_count": 59,
     "metadata": {},
     "output_type": "execute_result"
    }
   ],
   "source": [
    "pd.DataFrame(data={'Importance':model6_3.feature_importances_}, index=X_ordinal_new2.columns)"
   ]
  },
  {
   "cell_type": "markdown",
   "id": "innovative-rouge",
   "metadata": {},
   "source": [
    "## model6_4 - test6, change variables, age categories, parameters and change segmentation"
   ]
  },
  {
   "cell_type": "code",
   "execution_count": 60,
   "id": "announced-chest",
   "metadata": {},
   "outputs": [],
   "source": [
    "dataset_ordinal['Segmentetation_new'] = dataset_ordinal['Segmentation'].map({0:0, 1:1, 2:1, 3:3})"
   ]
  },
  {
   "cell_type": "code",
   "execution_count": 61,
   "id": "impaired-astronomy",
   "metadata": {},
   "outputs": [],
   "source": [
    "X_ordinal_new3 = dataset_ordinal[['Ever_Married', 'Graduated', 'Profession', 'Spending_Score', 'age_value_categories']]\n",
    "y_ordinal_new3 = dataset_ordinal['Segmentetation_new']"
   ]
  },
  {
   "cell_type": "code",
   "execution_count": 62,
   "id": "precise-young",
   "metadata": {},
   "outputs": [
    {
     "name": "stdout",
     "output_type": "stream",
     "text": [
      "ACCURACY FOR 1 ITERATIONS\n",
      "Max = 0.6341\n",
      "Mean = 0.6341\n",
      "Min = 0.6341\n",
      "Std = 0.0000\n",
      "RandomForestClassifier(class_weight='balanced', max_depth=6, n_estimators=500)\n"
     ]
    }
   ],
   "source": [
    "#first - split train and test data\n",
    "accuracy_list = []\n",
    "iterations = 1\n",
    "for iter in range(0, iterations):\n",
    "    X_train, X_test, y_train, y_test = train_test_split(X_ordinal_new3, y_ordinal_new3, train_size=0.7, \n",
    "                                                        stratify=y_ordinal_new3)\n",
    "\n",
    "    #third - macinhe learning apply\n",
    "    model6_4 = RandomForestClassifier(n_estimators=500, max_depth=6, class_weight='balanced')\n",
    "    model6_4.fit(X_train, y_train)\n",
    "    y_predict = model6_4.predict(X_test)\n",
    "\n",
    "    #fourth - test accuray\n",
    "    accuracy = accuracy_score(y_test, y_predict)\n",
    "    accuracy_list.append(accuracy)\n",
    "\n",
    "max_accuracy = np.asarray(accuracy_list).max()\n",
    "mean_accuracy = np.asarray(accuracy_list).mean()\n",
    "min_accuracy = np.asarray(accuracy_list).min()\n",
    "std_accuracy = np.asarray(accuracy_list).std()\n",
    "print(f'ACCURACY FOR {iterations} ITERATIONS')\n",
    "print(f'Max = {max_accuracy:.4f}\\nMean = {mean_accuracy:.4f}\\nMin = {min_accuracy:.4f}\\nStd = {std_accuracy:.4f}')\n",
    "print(model6_4.set_params())"
   ]
  },
  {
   "cell_type": "code",
   "execution_count": 63,
   "id": "mobile-parameter",
   "metadata": {},
   "outputs": [],
   "source": [
    "#create DataFrame with errors\n",
    "dict_compare = {'Real':y_test.values, 'Predict':y_predict}\n",
    "dataset_error = pd.DataFrame(dict_compare, index=y_test.index)\n",
    "dataset_error['Error'] = dataset_error['Real'] !=dataset_error['Predict']\n",
    "dataset_error['Cat_Real'] = dataset_error['Real'].map({0:'A', 1:'B', 2:'C', 3:'D'})\n",
    "dataset_error['Cat_Predict'] = dataset_error['Predict'].map({0:'A', 1:'B', 2:'C', 3:'D'})"
   ]
  },
  {
   "cell_type": "code",
   "execution_count": 64,
   "id": "reduced-italy",
   "metadata": {},
   "outputs": [
    {
     "name": "stdout",
     "output_type": "stream",
     "text": [
      "Percent of Error for each Segmentation\n"
     ]
    },
    {
     "data": {
      "text/html": [
       "<div>\n",
       "<style scoped>\n",
       "    .dataframe tbody tr th:only-of-type {\n",
       "        vertical-align: middle;\n",
       "    }\n",
       "\n",
       "    .dataframe tbody tr th {\n",
       "        vertical-align: top;\n",
       "    }\n",
       "\n",
       "    .dataframe thead th {\n",
       "        text-align: right;\n",
       "    }\n",
       "</style>\n",
       "<table border=\"1\" class=\"dataframe\">\n",
       "  <thead>\n",
       "    <tr style=\"text-align: right;\">\n",
       "      <th>Error</th>\n",
       "      <th>False</th>\n",
       "      <th>True</th>\n",
       "    </tr>\n",
       "    <tr>\n",
       "      <th>Cat_Real</th>\n",
       "      <th></th>\n",
       "      <th></th>\n",
       "    </tr>\n",
       "  </thead>\n",
       "  <tbody>\n",
       "    <tr>\n",
       "      <th>A</th>\n",
       "      <td>0.533929</td>\n",
       "      <td>0.466071</td>\n",
       "    </tr>\n",
       "    <tr>\n",
       "      <th>B</th>\n",
       "      <td>0.661831</td>\n",
       "      <td>0.338169</td>\n",
       "    </tr>\n",
       "    <tr>\n",
       "      <th>D</th>\n",
       "      <td>0.673981</td>\n",
       "      <td>0.326019</td>\n",
       "    </tr>\n",
       "  </tbody>\n",
       "</table>\n",
       "</div>"
      ],
      "text/plain": [
       "Error        False     True \n",
       "Cat_Real                    \n",
       "A         0.533929  0.466071\n",
       "B         0.661831  0.338169\n",
       "D         0.673981  0.326019"
      ]
     },
     "execution_count": 64,
     "metadata": {},
     "output_type": "execute_result"
    }
   ],
   "source": [
    "print('Percent of Error for each Segmentation')\n",
    "pd.crosstab(index=dataset_error['Cat_Real'], columns=dataset_error['Error'], normalize='index')"
   ]
  },
  {
   "cell_type": "code",
   "execution_count": 65,
   "id": "attempted-fishing",
   "metadata": {},
   "outputs": [
    {
     "data": {
      "text/html": [
       "<div>\n",
       "<style scoped>\n",
       "    .dataframe tbody tr th:only-of-type {\n",
       "        vertical-align: middle;\n",
       "    }\n",
       "\n",
       "    .dataframe tbody tr th {\n",
       "        vertical-align: top;\n",
       "    }\n",
       "\n",
       "    .dataframe thead th {\n",
       "        text-align: right;\n",
       "    }\n",
       "</style>\n",
       "<table border=\"1\" class=\"dataframe\">\n",
       "  <thead>\n",
       "    <tr style=\"text-align: right;\">\n",
       "      <th></th>\n",
       "      <th>Importance</th>\n",
       "    </tr>\n",
       "  </thead>\n",
       "  <tbody>\n",
       "    <tr>\n",
       "      <th>Ever_Married</th>\n",
       "      <td>0.101641</td>\n",
       "    </tr>\n",
       "    <tr>\n",
       "      <th>Graduated</th>\n",
       "      <td>0.090623</td>\n",
       "    </tr>\n",
       "    <tr>\n",
       "      <th>Profession</th>\n",
       "      <td>0.262380</td>\n",
       "    </tr>\n",
       "    <tr>\n",
       "      <th>Spending_Score</th>\n",
       "      <td>0.185499</td>\n",
       "    </tr>\n",
       "    <tr>\n",
       "      <th>age_value_categories</th>\n",
       "      <td>0.359857</td>\n",
       "    </tr>\n",
       "  </tbody>\n",
       "</table>\n",
       "</div>"
      ],
      "text/plain": [
       "                      Importance\n",
       "Ever_Married            0.101641\n",
       "Graduated               0.090623\n",
       "Profession              0.262380\n",
       "Spending_Score          0.185499\n",
       "age_value_categories    0.359857"
      ]
     },
     "execution_count": 65,
     "metadata": {},
     "output_type": "execute_result"
    }
   ],
   "source": [
    "pd.DataFrame(data={'Importance':model6_4.feature_importances_}, index=X_ordinal_new2.columns)"
   ]
  },
  {
   "cell_type": "markdown",
   "id": "necessary-mozambique",
   "metadata": {},
   "source": [
    "### Dummy Classifier"
   ]
  },
  {
   "cell_type": "code",
   "execution_count": 66,
   "id": "viral-stupid",
   "metadata": {},
   "outputs": [
    {
     "name": "stdout",
     "output_type": "stream",
     "text": [
      "ACCURACY FOR 1 ITERATIONS\n",
      "Max = 0.4794\n",
      "Mean = 0.4794\n",
      "Min = 0.4794\n",
      "Std = 0.0000\n",
      "DummyClassifier()\n"
     ]
    }
   ],
   "source": [
    "#first - split train and test data\n",
    "accuracy_list = []\n",
    "iterations = 1\n",
    "for iter in range(0, iterations):\n",
    "    X_train, X_test, y_train, y_test = train_test_split(X_ordinal_new3, y_ordinal_new3, train_size=0.7, \n",
    "                                                        stratify=y_ordinal_new3)\n",
    "\n",
    "    #third - macinhe learning apply\n",
    "    dummy = DummyClassifier()\n",
    "    dummy.fit(X_train, y_train)\n",
    "    y_predict = dummy.predict(X_test)\n",
    "\n",
    "    #fourth - test accuray\n",
    "    accuracy = accuracy_score(y_test, y_predict)\n",
    "    accuracy_list.append(accuracy)\n",
    "\n",
    "max_accuracy = np.asarray(accuracy_list).max()\n",
    "mean_accuracy = np.asarray(accuracy_list).mean()\n",
    "min_accuracy = np.asarray(accuracy_list).min()\n",
    "std_accuracy = np.asarray(accuracy_list).std()\n",
    "print(f'ACCURACY FOR {iterations} ITERATIONS')\n",
    "print(f'Max = {max_accuracy:.4f}\\nMean = {mean_accuracy:.4f}\\nMin = {min_accuracy:.4f}\\nStd = {std_accuracy:.4f}')\n",
    "print(dummy.set_params())"
   ]
  },
  {
   "cell_type": "code",
   "execution_count": 67,
   "id": "external-coating",
   "metadata": {},
   "outputs": [],
   "source": [
    "#create DataFrame with errors\n",
    "dict_compare = {'Real':y_test.values, 'Predict':y_predict}\n",
    "dataset_error = pd.DataFrame(dict_compare, index=y_test.index)\n",
    "dataset_error['Error'] = dataset_error['Real'] !=dataset_error['Predict']\n",
    "dataset_error['Cat_Real'] = dataset_error['Real'].map({0:'A', 1:'B', 2:'C', 3:'D'})\n",
    "dataset_error['Cat_Predict'] = dataset_error['Predict'].map({0:'A', 1:'B', 2:'C', 3:'D'})"
   ]
  },
  {
   "cell_type": "code",
   "execution_count": 68,
   "id": "according-suspension",
   "metadata": {},
   "outputs": [
    {
     "name": "stdout",
     "output_type": "stream",
     "text": [
      "Percent of Error for each Segmentation\n"
     ]
    },
    {
     "data": {
      "text/html": [
       "<div>\n",
       "<style scoped>\n",
       "    .dataframe tbody tr th:only-of-type {\n",
       "        vertical-align: middle;\n",
       "    }\n",
       "\n",
       "    .dataframe tbody tr th {\n",
       "        vertical-align: top;\n",
       "    }\n",
       "\n",
       "    .dataframe thead th {\n",
       "        text-align: right;\n",
       "    }\n",
       "</style>\n",
       "<table border=\"1\" class=\"dataframe\">\n",
       "  <thead>\n",
       "    <tr style=\"text-align: right;\">\n",
       "      <th>Error</th>\n",
       "      <th>False</th>\n",
       "      <th>True</th>\n",
       "    </tr>\n",
       "    <tr>\n",
       "      <th>Cat_Real</th>\n",
       "      <th></th>\n",
       "      <th></th>\n",
       "    </tr>\n",
       "  </thead>\n",
       "  <tbody>\n",
       "    <tr>\n",
       "      <th>A</th>\n",
       "      <td>0.0</td>\n",
       "      <td>1.0</td>\n",
       "    </tr>\n",
       "    <tr>\n",
       "      <th>B</th>\n",
       "      <td>1.0</td>\n",
       "      <td>0.0</td>\n",
       "    </tr>\n",
       "    <tr>\n",
       "      <th>D</th>\n",
       "      <td>0.0</td>\n",
       "      <td>1.0</td>\n",
       "    </tr>\n",
       "  </tbody>\n",
       "</table>\n",
       "</div>"
      ],
      "text/plain": [
       "Error     False  True \n",
       "Cat_Real              \n",
       "A           0.0    1.0\n",
       "B           1.0    0.0\n",
       "D           0.0    1.0"
      ]
     },
     "execution_count": 68,
     "metadata": {},
     "output_type": "execute_result"
    }
   ],
   "source": [
    "print('Percent of Error for each Segmentation')\n",
    "pd.crosstab(index=dataset_error['Cat_Real'], columns=dataset_error['Error'], normalize='index')"
   ]
  },
  {
   "cell_type": "markdown",
   "id": "confidential-label",
   "metadata": {},
   "source": [
    "## Conclusions"
   ]
  },
  {
   "cell_type": "markdown",
   "id": "hourly-assets",
   "metadata": {},
   "source": [
    "- some scenarios were tested and the overall accuracy did not show significant improvements, but model1_3 showed better precision in dividing the segments after dividing the age variable into categories \n",
    "- the option of joining segments B and C did not prove to be viable; although the accuracy of the model increases, this increase is only a result of randomness, as shown by the increase in baseline accuracy with this new segmentation"
   ]
  },
  {
   "cell_type": "markdown",
   "id": "sought-galaxy",
   "metadata": {},
   "source": [
    "### Next step"
   ]
  },
  {
   "cell_type": "markdown",
   "id": "outside-merit",
   "metadata": {},
   "source": [
    "- use theses changes in dataset with DecisionTreeClassifier"
   ]
  },
  {
   "cell_type": "markdown",
   "id": "molecular-format",
   "metadata": {},
   "source": [
    "## Save dataset"
   ]
  },
  {
   "cell_type": "code",
   "execution_count": 69,
   "id": "exotic-edgar",
   "metadata": {},
   "outputs": [],
   "source": [
    "#drop column age_value_categories\n",
    "dataset.drop(columns=['age_value_categories'], inplace=True)\n",
    "\n",
    "#save database\n",
    "dataset.to_csv('train_cleaning_model7.csv', index=False)"
   ]
  }
 ],
 "metadata": {
  "kernelspec": {
   "display_name": "Python 3",
   "language": "python",
   "name": "python3"
  },
  "language_info": {
   "codemirror_mode": {
    "name": "ipython",
    "version": 3
   },
   "file_extension": ".py",
   "mimetype": "text/x-python",
   "name": "python",
   "nbconvert_exporter": "python",
   "pygments_lexer": "ipython3",
   "version": "3.7.9"
  }
 },
 "nbformat": 4,
 "nbformat_minor": 5
}
