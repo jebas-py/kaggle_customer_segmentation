{
 "cells": [
  {
   "cell_type": "markdown",
   "id": "attached-coach",
   "metadata": {},
   "source": [
    "## Libraries and versions"
   ]
  },
  {
   "cell_type": "markdown",
   "id": "hungarian-watershed",
   "metadata": {},
   "source": [
    "### Libraries"
   ]
  },
  {
   "cell_type": "code",
   "execution_count": 1,
   "id": "affiliated-platform",
   "metadata": {},
   "outputs": [],
   "source": [
    "python_version = !Python -V #version 3.7.9\n",
    "import pandas as pd #version 1.2.3\n",
    "import numpy as np #version 1.19.2\n",
    "import seaborn as sns #version 0.11.0"
   ]
  },
  {
   "cell_type": "markdown",
   "id": "meaning-fiction",
   "metadata": {},
   "source": [
    "### Versions"
   ]
  },
  {
   "cell_type": "code",
   "execution_count": 2,
   "id": "military-motor",
   "metadata": {},
   "outputs": [
    {
     "name": "stdout",
     "output_type": "stream",
     "text": [
      "Python 3.7.9\n",
      "Pandas version: 1.2.3\n",
      "Numpy version: 1.19.2\n",
      "Seaborn version: 0.11.0\n"
     ]
    }
   ],
   "source": [
    "print(f'{python_version[0]}')\n",
    "print(f'Pandas version: {pd.__version__}')\n",
    "print(f'Numpy version: {np.__version__}')\n",
    "print(f'Seaborn version: {sns.__version__}')"
   ]
  },
  {
   "cell_type": "markdown",
   "id": "known-dinner",
   "metadata": {},
   "source": [
    "## Configurations"
   ]
  },
  {
   "cell_type": "markdown",
   "id": "disciplinary-collapse",
   "metadata": {},
   "source": [
    "### Seaborn"
   ]
  },
  {
   "cell_type": "code",
   "execution_count": 3,
   "id": "identified-boston",
   "metadata": {},
   "outputs": [],
   "source": [
    "sns.set_palette('copper_r')\n",
    "sns.set_style('darkgrid')\n",
    "\n",
    "def configuration(graphic_object, title=None, xlabel=None, ylabel=None):\n",
    "    graphic_object.figure.set_size_inches(18,6)\n",
    "    graphic_object.set_title(title, color='grey', fontsize=22)\n",
    "    graphic_object.set_xlabel(xlabel, color='grey', fontsize=18)\n",
    "    graphic_object.set_ylabel(ylabel, color='grey', fontsize=18)\n",
    "    graphic_object = graphic_object"
   ]
  },
  {
   "cell_type": "code",
   "execution_count": 4,
   "id": "crucial-society",
   "metadata": {},
   "outputs": [],
   "source": [
    "import warnings\n",
    "warnings.filterwarnings(\"ignore\")"
   ]
  },
  {
   "cell_type": "markdown",
   "id": "multiple-picking",
   "metadata": {},
   "source": [
    "## Dataset"
   ]
  },
  {
   "cell_type": "code",
   "execution_count": 5,
   "id": "norman-skirt",
   "metadata": {},
   "outputs": [],
   "source": [
    "dataset = pd.read_csv('train.csv')"
   ]
  },
  {
   "cell_type": "code",
   "execution_count": 6,
   "id": "mature-abraham",
   "metadata": {},
   "outputs": [
    {
     "data": {
      "text/html": [
       "<div>\n",
       "<style scoped>\n",
       "    .dataframe tbody tr th:only-of-type {\n",
       "        vertical-align: middle;\n",
       "    }\n",
       "\n",
       "    .dataframe tbody tr th {\n",
       "        vertical-align: top;\n",
       "    }\n",
       "\n",
       "    .dataframe thead th {\n",
       "        text-align: right;\n",
       "    }\n",
       "</style>\n",
       "<table border=\"1\" class=\"dataframe\">\n",
       "  <thead>\n",
       "    <tr style=\"text-align: right;\">\n",
       "      <th></th>\n",
       "      <th>ID</th>\n",
       "      <th>Gender</th>\n",
       "      <th>Ever_Married</th>\n",
       "      <th>Age</th>\n",
       "      <th>Graduated</th>\n",
       "      <th>Profession</th>\n",
       "      <th>Work_Experience</th>\n",
       "      <th>Spending_Score</th>\n",
       "      <th>Family_Size</th>\n",
       "      <th>Var_1</th>\n",
       "      <th>Segmentation</th>\n",
       "    </tr>\n",
       "  </thead>\n",
       "  <tbody>\n",
       "    <tr>\n",
       "      <th>0</th>\n",
       "      <td>462809</td>\n",
       "      <td>Male</td>\n",
       "      <td>No</td>\n",
       "      <td>22</td>\n",
       "      <td>No</td>\n",
       "      <td>Healthcare</td>\n",
       "      <td>1.0</td>\n",
       "      <td>Low</td>\n",
       "      <td>4.0</td>\n",
       "      <td>Cat_4</td>\n",
       "      <td>D</td>\n",
       "    </tr>\n",
       "    <tr>\n",
       "      <th>1</th>\n",
       "      <td>462643</td>\n",
       "      <td>Female</td>\n",
       "      <td>Yes</td>\n",
       "      <td>38</td>\n",
       "      <td>Yes</td>\n",
       "      <td>Engineer</td>\n",
       "      <td>NaN</td>\n",
       "      <td>Average</td>\n",
       "      <td>3.0</td>\n",
       "      <td>Cat_4</td>\n",
       "      <td>A</td>\n",
       "    </tr>\n",
       "    <tr>\n",
       "      <th>2</th>\n",
       "      <td>466315</td>\n",
       "      <td>Female</td>\n",
       "      <td>Yes</td>\n",
       "      <td>67</td>\n",
       "      <td>Yes</td>\n",
       "      <td>Engineer</td>\n",
       "      <td>1.0</td>\n",
       "      <td>Low</td>\n",
       "      <td>1.0</td>\n",
       "      <td>Cat_6</td>\n",
       "      <td>B</td>\n",
       "    </tr>\n",
       "    <tr>\n",
       "      <th>3</th>\n",
       "      <td>461735</td>\n",
       "      <td>Male</td>\n",
       "      <td>Yes</td>\n",
       "      <td>67</td>\n",
       "      <td>Yes</td>\n",
       "      <td>Lawyer</td>\n",
       "      <td>0.0</td>\n",
       "      <td>High</td>\n",
       "      <td>2.0</td>\n",
       "      <td>Cat_6</td>\n",
       "      <td>B</td>\n",
       "    </tr>\n",
       "    <tr>\n",
       "      <th>4</th>\n",
       "      <td>462669</td>\n",
       "      <td>Female</td>\n",
       "      <td>Yes</td>\n",
       "      <td>40</td>\n",
       "      <td>Yes</td>\n",
       "      <td>Entertainment</td>\n",
       "      <td>NaN</td>\n",
       "      <td>High</td>\n",
       "      <td>6.0</td>\n",
       "      <td>Cat_6</td>\n",
       "      <td>A</td>\n",
       "    </tr>\n",
       "  </tbody>\n",
       "</table>\n",
       "</div>"
      ],
      "text/plain": [
       "       ID  Gender Ever_Married  Age Graduated     Profession  Work_Experience  \\\n",
       "0  462809    Male           No   22        No     Healthcare              1.0   \n",
       "1  462643  Female          Yes   38       Yes       Engineer              NaN   \n",
       "2  466315  Female          Yes   67       Yes       Engineer              1.0   \n",
       "3  461735    Male          Yes   67       Yes         Lawyer              0.0   \n",
       "4  462669  Female          Yes   40       Yes  Entertainment              NaN   \n",
       "\n",
       "  Spending_Score  Family_Size  Var_1 Segmentation  \n",
       "0            Low          4.0  Cat_4            D  \n",
       "1        Average          3.0  Cat_4            A  \n",
       "2            Low          1.0  Cat_6            B  \n",
       "3           High          2.0  Cat_6            B  \n",
       "4           High          6.0  Cat_6            A  "
      ]
     },
     "execution_count": 6,
     "metadata": {},
     "output_type": "execute_result"
    }
   ],
   "source": [
    "dataset.head()"
   ]
  },
  {
   "cell_type": "markdown",
   "id": "suited-shadow",
   "metadata": {},
   "source": [
    "## Functions"
   ]
  },
  {
   "cell_type": "code",
   "execution_count": 7,
   "id": "executive-light",
   "metadata": {},
   "outputs": [],
   "source": [
    "def verification_variables(variable):\n",
    "    '''\n",
    "    print the results of missing values (null) and percent of values in variable\n",
    "    '''\n",
    "    missing = variable.isnull().value_counts()\n",
    "    percent = variable.value_counts(normalize=True, sort=True).round(3) * 100\n",
    "    print(f'MISSING\\n{missing}\\nVALUES\\n{percent}')"
   ]
  },
  {
   "cell_type": "markdown",
   "id": "automated-taiwan",
   "metadata": {},
   "source": [
    "## Dataset infos"
   ]
  },
  {
   "cell_type": "markdown",
   "id": "historic-fifty",
   "metadata": {},
   "source": [
    "### missing values"
   ]
  },
  {
   "cell_type": "code",
   "execution_count": 8,
   "id": "lesbian-collective",
   "metadata": {},
   "outputs": [
    {
     "data": {
      "image/png": "[encoded data removed]",
      "text/plain": [
       "<Figure size 1296x432 with 2 Axes>"
      ]
     },
     "metadata": {},
     "output_type": "display_data"
    }
   ],
   "source": [
    "graphic1 = sns.heatmap(dataset.isnull())\n",
    "configuration(graphic1, title='Missing values for variable')"
   ]
  },
  {
   "cell_type": "markdown",
   "id": "green-chocolate",
   "metadata": {},
   "source": [
    "### Variables X (detail)"
   ]
  },
  {
   "cell_type": "markdown",
   "id": "final-actor",
   "metadata": {},
   "source": [
    "#### Gender"
   ]
  },
  {
   "cell_type": "code",
   "execution_count": 9,
   "id": "worse-unknown",
   "metadata": {},
   "outputs": [
    {
     "name": "stdout",
     "output_type": "stream",
     "text": [
      "MISSING\n",
      "False    8068\n",
      "Name: Gender, dtype: int64\n",
      "VALUES\n",
      "Male      54.7\n",
      "Female    45.3\n",
      "Name: Gender, dtype: float64\n"
     ]
    }
   ],
   "source": [
    "verification_variables(dataset['Gender'])"
   ]
  },
  {
   "cell_type": "markdown",
   "id": "bound-moore",
   "metadata": {},
   "source": [
    "#### Ever_Married"
   ]
  },
  {
   "cell_type": "code",
   "execution_count": 10,
   "id": "british-compromise",
   "metadata": {},
   "outputs": [
    {
     "name": "stdout",
     "output_type": "stream",
     "text": [
      "MISSING\n",
      "False    7928\n",
      "True      140\n",
      "Name: Ever_Married, dtype: int64\n",
      "VALUES\n",
      "Yes    58.6\n",
      "No     41.4\n",
      "Name: Ever_Married, dtype: float64\n"
     ]
    }
   ],
   "source": [
    "verification_variables(dataset['Ever_Married'])"
   ]
  },
  {
   "cell_type": "markdown",
   "id": "floral-separate",
   "metadata": {},
   "source": [
    "#### Age"
   ]
  },
  {
   "cell_type": "code",
   "execution_count": 11,
   "id": "delayed-congo",
   "metadata": {},
   "outputs": [
    {
     "name": "stdout",
     "output_type": "stream",
     "text": [
      "MISSING\n",
      "False    8068\n",
      "Name: Age, dtype: int64\n",
      "VALUES\n",
      "35    3.1\n",
      "37    2.9\n",
      "42    2.9\n",
      "33    2.9\n",
      "40    2.8\n",
      "     ... \n",
      "78    0.4\n",
      "87    0.3\n",
      "76    0.3\n",
      "80    0.3\n",
      "85    0.3\n",
      "Name: Age, Length: 67, dtype: float64\n"
     ]
    }
   ],
   "source": [
    "verification_variables(dataset['Age'])"
   ]
  },
  {
   "cell_type": "code",
   "execution_count": 12,
   "id": "settled-lunch",
   "metadata": {},
   "outputs": [
    {
     "data": {
      "text/plain": [
       "count    8068.000000\n",
       "mean       43.466906\n",
       "std        16.711696\n",
       "min        18.000000\n",
       "25%        30.000000\n",
       "50%        40.000000\n",
       "75%        53.000000\n",
       "max        89.000000\n",
       "Name: Age, dtype: float64"
      ]
     },
     "execution_count": 12,
     "metadata": {},
     "output_type": "execute_result"
    }
   ],
   "source": [
    "#describe Age\n",
    "dataset['Age'].describe()"
   ]
  },
  {
   "cell_type": "code",
   "execution_count": 13,
   "id": "knowing-mumbai",
   "metadata": {},
   "outputs": [
    {
     "data": {
      "image/png": "[encoded data removed]",
      "text/plain": [
       "<Figure size 1296x432 with 1 Axes>"
      ]
     },
     "metadata": {},
     "output_type": "display_data"
    }
   ],
   "source": [
    "graphic2 = sns.boxplot(dataset['Age'], width=0.4)\n",
    "configuration(graphic2, title='Graphic 2 - Age Distribution')"
   ]
  },
  {
   "cell_type": "markdown",
   "id": "flush-albania",
   "metadata": {},
   "source": [
    "#### Graduated"
   ]
  },
  {
   "cell_type": "code",
   "execution_count": 14,
   "id": "starting-senator",
   "metadata": {},
   "outputs": [
    {
     "name": "stdout",
     "output_type": "stream",
     "text": [
      "MISSING\n",
      "False    7990\n",
      "True       78\n",
      "Name: Graduated, dtype: int64\n",
      "VALUES\n",
      "Yes    62.2\n",
      "No     37.8\n",
      "Name: Graduated, dtype: float64\n"
     ]
    }
   ],
   "source": [
    "verification_variables(dataset['Graduated'])"
   ]
  },
  {
   "cell_type": "markdown",
   "id": "peripheral-greek",
   "metadata": {},
   "source": [
    "#### Profession"
   ]
  },
  {
   "cell_type": "code",
   "execution_count": 15,
   "id": "continent-funeral",
   "metadata": {},
   "outputs": [
    {
     "name": "stdout",
     "output_type": "stream",
     "text": [
      "MISSING\n",
      "False    7944\n",
      "True      124\n",
      "Name: Profession, dtype: int64\n",
      "VALUES\n",
      "Artist           31.7\n",
      "Healthcare       16.8\n",
      "Entertainment    11.9\n",
      "Engineer          8.8\n",
      "Doctor            8.7\n",
      "Lawyer            7.8\n",
      "Executive         7.5\n",
      "Marketing         3.7\n",
      "Homemaker         3.1\n",
      "Name: Profession, dtype: float64\n"
     ]
    }
   ],
   "source": [
    "verification_variables(dataset['Profession'])"
   ]
  },
  {
   "cell_type": "markdown",
   "id": "dedicated-above",
   "metadata": {},
   "source": [
    "#### Work_Experience"
   ]
  },
  {
   "cell_type": "code",
   "execution_count": 16,
   "id": "ignored-copper",
   "metadata": {},
   "outputs": [
    {
     "name": "stdout",
     "output_type": "stream",
     "text": [
      "MISSING\n",
      "False    7239\n",
      "True      829\n",
      "Name: Work_Experience, dtype: int64\n",
      "VALUES\n",
      "1.0     32.5\n",
      "0.0     32.0\n",
      "9.0      6.5\n",
      "8.0      6.4\n",
      "2.0      4.0\n",
      "3.0      3.5\n",
      "4.0      3.5\n",
      "6.0      2.8\n",
      "7.0      2.7\n",
      "5.0      2.7\n",
      "10.0     0.7\n",
      "11.0     0.7\n",
      "12.0     0.7\n",
      "13.0     0.6\n",
      "14.0     0.6\n",
      "Name: Work_Experience, dtype: float64\n"
     ]
    }
   ],
   "source": [
    "verification_variables(dataset['Work_Experience'])"
   ]
  },
  {
   "cell_type": "code",
   "execution_count": 17,
   "id": "increasing-nickel",
   "metadata": {},
   "outputs": [
    {
     "data": {
      "text/plain": [
       "count    7239.000000\n",
       "mean        2.641663\n",
       "std         3.406763\n",
       "min         0.000000\n",
       "25%         0.000000\n",
       "50%         1.000000\n",
       "75%         4.000000\n",
       "max        14.000000\n",
       "Name: Work_Experience, dtype: float64"
      ]
     },
     "execution_count": 17,
     "metadata": {},
     "output_type": "execute_result"
    }
   ],
   "source": [
    "#Work_Experience describe\n",
    "dataset['Work_Experience'].describe()"
   ]
  },
  {
   "cell_type": "code",
   "execution_count": 18,
   "id": "boring-cleveland",
   "metadata": {},
   "outputs": [
    {
     "data": {
      "image/png": "[encoded data removed]",
      "text/plain": [
       "<Figure size 1296x432 with 1 Axes>"
      ]
     },
     "metadata": {},
     "output_type": "display_data"
    }
   ],
   "source": [
    "graphic3 = sns.boxplot(dataset['Work_Experience'], width=0.4)\n",
    "configuration(graphic3, title='Graphic 3 - Work_Experience Distribution')"
   ]
  },
  {
   "cell_type": "markdown",
   "id": "approved-buyer",
   "metadata": {},
   "source": [
    "#### Spending_Score"
   ]
  },
  {
   "cell_type": "code",
   "execution_count": 19,
   "id": "ordered-adelaide",
   "metadata": {},
   "outputs": [
    {
     "name": "stdout",
     "output_type": "stream",
     "text": [
      "MISSING\n",
      "False    8068\n",
      "Name: Spending_Score, dtype: int64\n",
      "VALUES\n",
      "Low        60.5\n",
      "Average    24.5\n",
      "High       15.1\n",
      "Name: Spending_Score, dtype: float64\n"
     ]
    }
   ],
   "source": [
    "verification_variables(dataset['Spending_Score'])"
   ]
  },
  {
   "cell_type": "markdown",
   "id": "senior-boating",
   "metadata": {},
   "source": [
    "#### Family_Size"
   ]
  },
  {
   "cell_type": "code",
   "execution_count": 20,
   "id": "aerial-strain",
   "metadata": {},
   "outputs": [
    {
     "name": "stdout",
     "output_type": "stream",
     "text": [
      "MISSING\n",
      "False    7733\n",
      "True      335\n",
      "Name: Family_Size, dtype: int64\n",
      "VALUES\n",
      "2.0    30.9\n",
      "3.0    19.4\n",
      "1.0    18.8\n",
      "4.0    17.8\n",
      "5.0     7.9\n",
      "6.0     2.7\n",
      "7.0     1.2\n",
      "8.0     0.6\n",
      "9.0     0.6\n",
      "Name: Family_Size, dtype: float64\n"
     ]
    }
   ],
   "source": [
    "verification_variables(dataset['Family_Size'])"
   ]
  },
  {
   "cell_type": "code",
   "execution_count": 21,
   "id": "fancy-forge",
   "metadata": {},
   "outputs": [
    {
     "data": {
      "text/plain": [
       "count    7733.000000\n",
       "mean        2.850123\n",
       "std         1.531413\n",
       "min         1.000000\n",
       "25%         2.000000\n",
       "50%         3.000000\n",
       "75%         4.000000\n",
       "max         9.000000\n",
       "Name: Family_Size, dtype: float64"
      ]
     },
     "execution_count": 21,
     "metadata": {},
     "output_type": "execute_result"
    }
   ],
   "source": [
    "# Family_Size describe\n",
    "dataset['Family_Size'].describe()"
   ]
  },
  {
   "cell_type": "code",
   "execution_count": 22,
   "id": "textile-vegetation",
   "metadata": {},
   "outputs": [
    {
     "data": {
      "image/png": "[encoded data removed]",
      "text/plain": [
       "<Figure size 1296x432 with 1 Axes>"
      ]
     },
     "metadata": {},
     "output_type": "display_data"
    }
   ],
   "source": [
    "graphic4 = sns.boxplot(dataset['Family_Size'], width=0.4)\n",
    "configuration(graphic4, title='Graphic 4 - Family_Size Distribution')"
   ]
  },
  {
   "cell_type": "markdown",
   "id": "arranged-humor",
   "metadata": {},
   "source": [
    "#### Var_1"
   ]
  },
  {
   "cell_type": "code",
   "execution_count": 23,
   "id": "distinguished-evidence",
   "metadata": {},
   "outputs": [
    {
     "name": "stdout",
     "output_type": "stream",
     "text": [
      "MISSING\n",
      "False    7992\n",
      "True       76\n",
      "Name: Var_1, dtype: int64\n",
      "VALUES\n",
      "Cat_6    65.5\n",
      "Cat_4    13.6\n",
      "Cat_3    10.3\n",
      "Cat_2     5.3\n",
      "Cat_7     2.5\n",
      "Cat_1     1.7\n",
      "Cat_5     1.1\n",
      "Name: Var_1, dtype: float64\n"
     ]
    }
   ],
   "source": [
    "verification_variables(dataset['Var_1'])"
   ]
  },
  {
   "cell_type": "markdown",
   "id": "gorgeous-environment",
   "metadata": {},
   "source": [
    "### Dependent Variable (detail)"
   ]
  },
  {
   "cell_type": "code",
   "execution_count": 24,
   "id": "laden-distinction",
   "metadata": {},
   "outputs": [
    {
     "name": "stdout",
     "output_type": "stream",
     "text": [
      "MISSING\n",
      "False    8068\n",
      "Name: Segmentation, dtype: int64\n",
      "VALUES\n",
      "D    28.1\n",
      "A    24.4\n",
      "C    24.4\n",
      "B    23.0\n",
      "Name: Segmentation, dtype: float64\n"
     ]
    }
   ],
   "source": [
    "verification_variables(dataset['Segmentation'])"
   ]
  },
  {
   "cell_type": "markdown",
   "id": "european-instrumentation",
   "metadata": {},
   "source": [
    "DATASET\n",
    "- there are two types of variables: categoric and numeric\n",
    "- only variables Gender, Age, Spending_Score and Segmentation has no missing values\n",
    "\n",
    "TREATMENT\n",
    "- I will remove all lines with missing values for categoric variables (Ever_Married, Graduated, Profession and Var_1)\n",
    "- for numeric variables with missing values (Work_Experience and Family_Size) I will fill with median or mean"
   ]
  },
  {
   "cell_type": "markdown",
   "id": "instructional-brief",
   "metadata": {},
   "source": [
    "## Treatment"
   ]
  },
  {
   "cell_type": "markdown",
   "id": "gorgeous-effort",
   "metadata": {},
   "source": [
    "### Missing values"
   ]
  },
  {
   "cell_type": "markdown",
   "id": "simple-soccer",
   "metadata": {},
   "source": [
    "#### Numeric variables"
   ]
  },
  {
   "cell_type": "code",
   "execution_count": 25,
   "id": "constant-tanzania",
   "metadata": {},
   "outputs": [],
   "source": [
    "dataset['Work_Experience'] = dataset['Work_Experience'].fillna(value=dataset['Work_Experience'].median())\n",
    "dataset['Family_Size'] = dataset['Family_Size'].fillna(value=dataset['Family_Size'].median())"
   ]
  },
  {
   "cell_type": "code",
   "execution_count": 26,
   "id": "close-intersection",
   "metadata": {},
   "outputs": [
    {
     "name": "stdout",
     "output_type": "stream",
     "text": [
      "MISSING\n",
      "False    8068\n",
      "Name: Work_Experience, dtype: int64\n",
      "VALUES\n",
      "1.0     39.5\n",
      "0.0     28.7\n",
      "9.0      5.9\n",
      "8.0      5.7\n",
      "2.0      3.5\n",
      "3.0      3.2\n",
      "4.0      3.1\n",
      "6.0      2.5\n",
      "7.0      2.4\n",
      "5.0      2.4\n",
      "10.0     0.7\n",
      "11.0     0.6\n",
      "12.0     0.6\n",
      "13.0     0.6\n",
      "14.0     0.6\n",
      "Name: Work_Experience, dtype: float64\n"
     ]
    }
   ],
   "source": [
    "#verification Work_Experience\n",
    "verification_variables(dataset['Work_Experience'])"
   ]
  },
  {
   "cell_type": "code",
   "execution_count": 27,
   "id": "hundred-hartford",
   "metadata": {},
   "outputs": [
    {
     "name": "stdout",
     "output_type": "stream",
     "text": [
      "MISSING\n",
      "False    8068\n",
      "Name: Family_Size, dtype: int64\n",
      "VALUES\n",
      "2.0    29.6\n",
      "3.0    22.7\n",
      "1.0    18.0\n",
      "4.0    17.1\n",
      "5.0     7.6\n",
      "6.0     2.6\n",
      "7.0     1.2\n",
      "8.0     0.6\n",
      "9.0     0.5\n",
      "Name: Family_Size, dtype: float64\n"
     ]
    }
   ],
   "source": [
    "#verification Family_Size\n",
    "verification_variables(dataset['Family_Size'])"
   ]
  },
  {
   "cell_type": "markdown",
   "id": "related-closure",
   "metadata": {},
   "source": [
    "#### Categoric Variables"
   ]
  },
  {
   "cell_type": "code",
   "execution_count": 28,
   "id": "expressed-integral",
   "metadata": {},
   "outputs": [],
   "source": [
    "original_lines, original_columns = dataset.shape"
   ]
  },
  {
   "cell_type": "code",
   "execution_count": 29,
   "id": "objective-departure",
   "metadata": {},
   "outputs": [],
   "source": [
    "#exclude all missing of categoric variables\n",
    "dataset.dropna(inplace=True)"
   ]
  },
  {
   "cell_type": "code",
   "execution_count": 30,
   "id": "parallel-group",
   "metadata": {},
   "outputs": [],
   "source": [
    "new_lines, new_columns = dataset.shape"
   ]
  },
  {
   "cell_type": "code",
   "execution_count": 31,
   "id": "sealed-invite",
   "metadata": {},
   "outputs": [
    {
     "name": "stdout",
     "output_type": "stream",
     "text": [
      "Number of lines in original file = 8068\n",
      "Number of lines in new file = 7669\n",
      "Number of lines removed = 399\n"
     ]
    }
   ],
   "source": [
    "print(f'Number of lines in original file = {original_lines}')\n",
    "print(f'Number of lines in new file = {new_lines}')\n",
    "print(f'Number of lines removed = {original_lines - new_lines}')"
   ]
  },
  {
   "cell_type": "code",
   "execution_count": 32,
   "id": "mediterranean-audience",
   "metadata": {},
   "outputs": [
    {
     "data": {
      "image/png": "[encoded data removed]",
      "text/plain": [
       "<Figure size 1296x432 with 2 Axes>"
      ]
     },
     "metadata": {},
     "output_type": "display_data"
    }
   ],
   "source": [
    "graphic5 = sns.heatmap(dataset.isnull())\n",
    "configuration(graphic5, title='Graphic 5 - Number of missing values')"
   ]
  },
  {
   "cell_type": "markdown",
   "id": "focal-consolidation",
   "metadata": {},
   "source": [
    "## Save changes in new file"
   ]
  },
  {
   "cell_type": "code",
   "execution_count": 33,
   "id": "portuguese-census",
   "metadata": {},
   "outputs": [],
   "source": [
    "dataset.to_csv('train_cleaning.csv', index=False)"
   ]
  }
 ],
 "metadata": {
  "kernelspec": {
   "display_name": "Python 3",
   "language": "python",
   "name": "python3"
  },
  "language_info": {
   "codemirror_mode": {
    "name": "ipython",
    "version": 3
   },
   "file_extension": ".py",
   "mimetype": "text/x-python",
   "name": "python",
   "nbconvert_exporter": "python",
   "pygments_lexer": "ipython3",
   "version": "3.7.9"
  }
 },
 "nbformat": 4,
 "nbformat_minor": 5
}
